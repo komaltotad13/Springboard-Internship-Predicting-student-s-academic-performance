{
 "cells": [
  {
   "cell_type": "code",
   "execution_count": 8,
   "metadata": {},
   "outputs": [],
   "source": [
    "import pandas as pd"
   ]
  },
  {
   "cell_type": "code",
   "execution_count": 23,
   "id": "0d43e4bf",
   "metadata": {},
   "outputs": [
    {
     "name": "stdout",
     "output_type": "stream",
     "text": [
      "      age gender residence  competative_exams  access_to_internet  \\\n",
      "0      11      M         H                  0                   0   \n",
      "1      14      F         D                  0                   1   \n",
      "2      21      M         H                  1                   1   \n",
      "3      24      F         H                  1                   0   \n",
      "4      12      F         H                  0                   0   \n",
      "...   ...    ...       ...                ...                 ...   \n",
      "2054   18      F         H                  1                   1   \n",
      "2055   20      M         H                  0                   0   \n",
      "2056   26      F         H                  1                   0   \n",
      "2057   27      M         D                  1                   0   \n",
      "2058   18      F         D                  1                   0   \n",
      "\n",
      "      study_hours_per_day  has_scholarship  extracurricular_activities  \\\n",
      "0                       4                0                           1   \n",
      "1                       1                1                           0   \n",
      "2                       6                0                           1   \n",
      "3                       7                0                           0   \n",
      "4                       5                1                           0   \n",
      "...                   ...              ...                         ...   \n",
      "2054                   10                0                           0   \n",
      "2055                    6                0                           0   \n",
      "2056                    4                0                           0   \n",
      "2057                    6                1                           1   \n",
      "2058                   10                0                           0   \n",
      "\n",
      "      fam_fin_status  health  ... f_job  m_job  alcoholic  additional_tuition  \\\n",
      "0                  3       5  ...     0      0          0                   1   \n",
      "1                  4       2  ...     1      0          0                   0   \n",
      "2                  5       3  ...     1      1          1                   0   \n",
      "3                  4       2  ...     1      1          1                   1   \n",
      "4                  3       1  ...     1      0          0                   1   \n",
      "...              ...     ...  ...   ...    ...        ...                 ...   \n",
      "2054               4       5  ...     1      0          0                   1   \n",
      "2055               2       5  ...     1      1          3                   0   \n",
      "2056               1       4  ...     1      0          1                   1   \n",
      "2057               3       5  ...     1      0          4                   1   \n",
      "2058               2       4  ...     1      1          1                   0   \n",
      "\n",
      "      fam_size  fam_relation  prev_percent_1  prev_percent_2  prev_percent_3  \\\n",
      "0           14             4              73              73              67   \n",
      "1            1             2              96              87              80   \n",
      "2           15             2              81              78              93   \n",
      "3           15             4              77              71              88   \n",
      "4           13             3              66              78              85   \n",
      "...        ...           ...             ...             ...             ...   \n",
      "2054         4             1              71              80              61   \n",
      "2055         4             1              68              61              81   \n",
      "2056         3             3              72              55              86   \n",
      "2057         5             3              53              58              83   \n",
      "2058         4             5              58              85              82   \n",
      "\n",
      "      TARGET_PREDICTION_PERCENT  \n",
      "0                            71  \n",
      "1                            87  \n",
      "2                            84  \n",
      "3                            78  \n",
      "4                            76  \n",
      "...                         ...  \n",
      "2054                         74  \n",
      "2055                         77  \n",
      "2056                         68  \n",
      "2057                         79  \n",
      "2058                         64  \n",
      "\n",
      "[2059 rows x 23 columns]\n"
     ]
    }
   ],
   "source": [
    "file_path = \"Final_Training_Data.csv\"  \n",
    "df = pd.read_csv(file_path)\n",
    "print(df)"
   ]
  },
  {
   "cell_type": "code",
   "execution_count": 24,
   "id": "41474676",
   "metadata": {},
   "outputs": [],
   "source": [
    "df_encoded = pd.get_dummies(df,columns=[\"gender\",\"residence\",\"location\"])"
   ]
  },
  {
   "cell_type": "code",
   "execution_count": 25,
   "id": "809117b5",
   "metadata": {},
   "outputs": [
    {
     "data": {
      "text/plain": [
       "(2059, 26)"
      ]
     },
     "execution_count": 25,
     "metadata": {},
     "output_type": "execute_result"
    }
   ],
   "source": [
    "df_encoded.shape"
   ]
  },
  {
   "cell_type": "code",
   "execution_count": 26,
   "id": "752ae6c5",
   "metadata": {},
   "outputs": [
    {
     "data": {
      "text/plain": [
       "Index(['age', 'competative_exams', 'access_to_internet', 'study_hours_per_day',\n",
       "       'has_scholarship', 'extracurricular_activities', 'fam_fin_status',\n",
       "       'health', 'f_edu', 'm_edu', 'f_job', 'm_job', 'alcoholic',\n",
       "       'additional_tuition', 'fam_size', 'fam_relation', 'prev_percent_1',\n",
       "       'prev_percent_2', 'prev_percent_3', 'TARGET_PREDICTION_PERCENT',\n",
       "       'gender_F', 'gender_M', 'residence_D', 'residence_H', 'location_R',\n",
       "       'location_U'],\n",
       "      dtype='object')"
      ]
     },
     "execution_count": 26,
     "metadata": {},
     "output_type": "execute_result"
    }
   ],
   "source": [
    "df_encoded.columns"
   ]
  },
  {
   "cell_type": "code",
   "execution_count": 27,
   "id": "447ede69",
   "metadata": {},
   "outputs": [],
   "source": [
    "# Features are all columns except the target\n",
    "X = df_encoded.drop(\"TARGET_PREDICTION_PERCENT\", axis=1)\n",
    "\n",
    "# Target is the specific output label\n",
    "y = df_encoded[\"TARGET_PREDICTION_PERCENT\"]\n"
   ]
  },
  {
   "cell_type": "code",
   "execution_count": 28,
   "id": "fcea82af",
   "metadata": {},
   "outputs": [
    {
     "name": "stdout",
     "output_type": "stream",
     "text": [
      "Features:\n",
      "   age  competative_exams  access_to_internet  study_hours_per_day  \\\n",
      "0   11                  0                   0                    4   \n",
      "1   14                  0                   1                    1   \n",
      "2   21                  1                   1                    6   \n",
      "3   24                  1                   0                    7   \n",
      "4   12                  0                   0                    5   \n",
      "\n",
      "   has_scholarship  extracurricular_activities  fam_fin_status  health  f_edu  \\\n",
      "0                0                           1               3       5      4   \n",
      "1                1                           0               4       2      5   \n",
      "2                0                           1               5       3      3   \n",
      "3                0                           0               4       2      2   \n",
      "4                1                           0               3       1      3   \n",
      "\n",
      "   m_edu  ...  fam_relation  prev_percent_1  prev_percent_2  prev_percent_3  \\\n",
      "0      5  ...             4              73              73              67   \n",
      "1      0  ...             2              96              87              80   \n",
      "2      4  ...             2              81              78              93   \n",
      "3      1  ...             4              77              71              88   \n",
      "4      3  ...             3              66              78              85   \n",
      "\n",
      "   gender_F  gender_M  residence_D  residence_H  location_R  location_U  \n",
      "0     False      True        False         True        True       False  \n",
      "1      True     False         True        False       False        True  \n",
      "2     False      True        False         True       False        True  \n",
      "3      True     False        False         True       False        True  \n",
      "4      True     False        False         True        True       False  \n",
      "\n",
      "[5 rows x 25 columns]\n",
      "\n",
      "Target:\n",
      "0    71\n",
      "1    87\n",
      "2    84\n",
      "3    78\n",
      "4    76\n",
      "Name: TARGET_PREDICTION_PERCENT, dtype: int64\n"
     ]
    }
   ],
   "source": [
    "# Display the first few rows of the features and target\n",
    "print(\"Features:\")\n",
    "print(X.head())\n",
    "\n",
    "print(\"\\nTarget:\")\n",
    "print(y.head())\n"
   ]
  },
  {
   "cell_type": "code",
   "execution_count": 29,
   "id": "d8023cc6",
   "metadata": {},
   "outputs": [
    {
     "name": "stdout",
     "output_type": "stream",
     "text": [
      "Training Features shape: (1647, 25)\n",
      "Testing Features shape: (412, 25)\n",
      "Training Target shape: (1647,)\n",
      "Testing Target shape: (412,)\n"
     ]
    }
   ],
   "source": [
    "import pandas as pd\n",
    "from sklearn.model_selection import train_test_split\n",
    "# Split the data into training and testing sets\n",
    "# 80% for training and 20% for testing\n",
    "X_train, X_test, y_train, y_test = train_test_split(X, y, test_size=0.2, random_state=42)\n",
    "\n",
    "# Verify the size of the splits\n",
    "print(\"Training Features shape:\", X_train.shape)\n",
    "print(\"Testing Features shape:\", X_test.shape)\n",
    "print(\"Training Target shape:\", y_train.shape)\n",
    "print(\"Testing Target shape:\", y_test.shape)"
   ]
  },
  {
   "cell_type": "code",
   "execution_count": 30,
   "id": "b039c446",
   "metadata": {},
   "outputs": [
    {
     "name": "stdout",
     "output_type": "stream",
     "text": [
      "1.3.0\n"
     ]
    }
   ],
   "source": [
    "import sklearn\n",
    "print(sklearn.__version__)"
   ]
  },
  {
   "cell_type": "code",
   "execution_count": 31,
   "id": "8a7662aa",
   "metadata": {},
   "outputs": [],
   "source": [
    "from sklearn.preprocessing import StandardScaler\n",
    "scaler=StandardScaler()"
   ]
  },
  {
   "cell_type": "code",
   "execution_count": 32,
   "id": "7946aeac",
   "metadata": {},
   "outputs": [],
   "source": [
    "df_scaled = scaler.fit_transform(X_train)"
   ]
  },
  {
   "cell_type": "code",
   "execution_count": 22,
   "id": "b576c2d9",
   "metadata": {},
   "outputs": [
    {
     "data": {
      "text/plain": [
       "array([[ 1.45674283, -0.89883447,  0.5024654 , ..., -0.88784774,\n",
       "        -0.78908814,  0.78908814],\n",
       "       [-0.70920869, -0.89883447,  0.5024654 , ...,  1.12631924,\n",
       "         1.26728555, -1.26728555],\n",
       "       [-0.39978704, -0.89883447,  0.5024654 , ...,  1.12631924,\n",
       "         1.26728555, -1.26728555],\n",
       "       ...,\n",
       "       [-1.32805198,  1.1125519 ,  0.5024654 , ..., -0.88784774,\n",
       "         1.26728555, -1.26728555],\n",
       "       [ 0.21905625,  1.1125519 ,  0.5024654 , ...,  1.12631924,\n",
       "        -0.78908814,  0.78908814],\n",
       "       [ 0.52847789,  1.1125519 , -1.99018677, ..., -0.88784774,\n",
       "        -0.78908814,  0.78908814]])"
      ]
     },
     "execution_count": 22,
     "metadata": {},
     "output_type": "execute_result"
    }
   ],
   "source": [
    "df_scaled"
   ]
  },
  {
   "cell_type": "code",
   "execution_count": null,
   "id": "cc472a96",
   "metadata": {},
   "outputs": [],
   "source": []
  },
  {
   "cell_type": "code",
   "execution_count": null,
   "id": "76ce7822",
   "metadata": {},
   "outputs": [],
   "source": []
  },
  {
   "cell_type": "code",
   "execution_count": null,
   "id": "6be137c0",
   "metadata": {},
   "outputs": [],
   "source": []
  },
  {
   "cell_type": "code",
   "execution_count": null,
   "id": "e8be33ca",
   "metadata": {},
   "outputs": [],
   "source": []
  },
  {
   "cell_type": "code",
   "execution_count": null,
   "id": "47d31af4",
   "metadata": {},
   "outputs": [],
   "source": []
  },
  {
   "cell_type": "code",
   "execution_count": null,
   "id": "c5e53d3a",
   "metadata": {},
   "outputs": [],
   "source": []
  },
  {
   "cell_type": "code",
   "execution_count": null,
   "id": "2cb5c722",
   "metadata": {},
   "outputs": [],
   "source": []
  },
  {
   "cell_type": "code",
   "execution_count": null,
   "id": "fd75ab98",
   "metadata": {},
   "outputs": [],
   "source": []
  }
 ],
 "metadata": {
  "jupytext": {
   "cell_metadata_filter": "-all",
   "notebook_metadata_filter": "-all"
  },
  "kernelspec": {
   "display_name": "Python 3",
   "language": "python",
   "name": "python3"
  },
  "language_info": {
   "codemirror_mode": {
    "name": "ipython",
    "version": 3
   },
   "file_extension": ".py",
   "mimetype": "text/x-python",
   "name": "python",
   "nbconvert_exporter": "python",
   "pygments_lexer": "ipython3",
   "version": "3.10.13"
  }
 },
 "nbformat": 4,
 "nbformat_minor": 5
}
