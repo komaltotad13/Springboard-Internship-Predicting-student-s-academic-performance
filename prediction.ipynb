{
 "cells": [
  {
   "cell_type": "code",
   "execution_count": 1,
   "metadata": {},
   "outputs": [],
   "source": [
    "import pandas as pd"
   ]
  },
  {
   "cell_type": "code",
   "execution_count": 2,
   "id": "0d43e4bf",
   "metadata": {},
   "outputs": [
    {
     "name": "stdout",
     "output_type": "stream",
     "text": [
      "      age gender residence  competative_exams  access_to_internet  \\\n",
      "0      11      M         H                  0                   0   \n",
      "1      14      F         D                  0                   1   \n",
      "2      21      M         H                  1                   1   \n",
      "3      24      F         H                  1                   0   \n",
      "4      12      F         H                  0                   0   \n",
      "...   ...    ...       ...                ...                 ...   \n",
      "2054   18      F         H                  1                   1   \n",
      "2055   20      M         H                  0                   0   \n",
      "2056   26      F         H                  1                   0   \n",
      "2057   27      M         D                  1                   0   \n",
      "2058   18      F         D                  1                   0   \n",
      "\n",
      "      study_hours_per_day  has_scholarship  extracurricular_activities  \\\n",
      "0                       4                0                           1   \n",
      "1                       1                1                           0   \n",
      "2                       6                0                           1   \n",
      "3                       7                0                           0   \n",
      "4                       5                1                           0   \n",
      "...                   ...              ...                         ...   \n",
      "2054                   10                0                           0   \n",
      "2055                    6                0                           0   \n",
      "2056                    4                0                           0   \n",
      "2057                    6                1                           1   \n",
      "2058                   10                0                           0   \n",
      "\n",
      "      fam_fin_status  health  ... f_job  m_job  alcoholic  additional_tuition  \\\n",
      "0                  3       5  ...     0      0          0                   1   \n",
      "1                  4       2  ...     1      0          0                   0   \n",
      "2                  5       3  ...     1      1          1                   0   \n",
      "3                  4       2  ...     1      1          1                   1   \n",
      "4                  3       1  ...     1      0          0                   1   \n",
      "...              ...     ...  ...   ...    ...        ...                 ...   \n",
      "2054               4       5  ...     1      0          0                   1   \n",
      "2055               2       5  ...     1      1          3                   0   \n",
      "2056               1       4  ...     1      0          1                   1   \n",
      "2057               3       5  ...     1      0          4                   1   \n",
      "2058               2       4  ...     1      1          1                   0   \n",
      "\n",
      "      fam_size  fam_relation  prev_percent_1  prev_percent_2  prev_percent_3  \\\n",
      "0           14             4              73              73              67   \n",
      "1            1             2              96              87              80   \n",
      "2           15             2              81              78              93   \n",
      "3           15             4              77              71              88   \n",
      "4           13             3              66              78              85   \n",
      "...        ...           ...             ...             ...             ...   \n",
      "2054         4             1              71              80              61   \n",
      "2055         4             1              68              61              81   \n",
      "2056         3             3              72              55              86   \n",
      "2057         5             3              53              58              83   \n",
      "2058         4             5              58              85              82   \n",
      "\n",
      "      TARGET_PREDICTION_PERCENT  \n",
      "0                            71  \n",
      "1                            87  \n",
      "2                            84  \n",
      "3                            78  \n",
      "4                            76  \n",
      "...                         ...  \n",
      "2054                         74  \n",
      "2055                         77  \n",
      "2056                         68  \n",
      "2057                         79  \n",
      "2058                         64  \n",
      "\n",
      "[2059 rows x 23 columns]\n"
     ]
    }
   ],
   "source": [
    "file_path = \"Final_Training_Data.csv\"  \n",
    "df = pd.read_csv(file_path)\n",
    "print(df)"
   ]
  },
  {
   "cell_type": "code",
   "execution_count": 3,
   "id": "41474676",
   "metadata": {},
   "outputs": [],
   "source": [
    "df_encoded = pd.get_dummies(df,columns=[\"gender\",\"residence\",\"location\"])"
   ]
  },
  {
   "cell_type": "code",
   "execution_count": 4,
   "id": "809117b5",
   "metadata": {},
   "outputs": [
    {
     "data": {
      "text/plain": [
       "(2059, 26)"
      ]
     },
     "execution_count": 4,
     "metadata": {},
     "output_type": "execute_result"
    }
   ],
   "source": [
    "df_encoded.shape"
   ]
  },
  {
   "cell_type": "code",
   "execution_count": 5,
   "id": "752ae6c5",
   "metadata": {},
   "outputs": [
    {
     "data": {
      "text/plain": [
       "Index(['age', 'competative_exams', 'access_to_internet', 'study_hours_per_day',\n",
       "       'has_scholarship', 'extracurricular_activities', 'fam_fin_status',\n",
       "       'health', 'f_edu', 'm_edu', 'f_job', 'm_job', 'alcoholic',\n",
       "       'additional_tuition', 'fam_size', 'fam_relation', 'prev_percent_1',\n",
       "       'prev_percent_2', 'prev_percent_3', 'TARGET_PREDICTION_PERCENT',\n",
       "       'gender_F', 'gender_M', 'residence_D', 'residence_H', 'location_R',\n",
       "       'location_U'],\n",
       "      dtype='object')"
      ]
     },
     "execution_count": 5,
     "metadata": {},
     "output_type": "execute_result"
    }
   ],
   "source": [
    "df_encoded.columns"
   ]
  },
  {
   "cell_type": "code",
   "execution_count": 6,
   "id": "447ede69",
   "metadata": {},
   "outputs": [],
   "source": [
    "# Features are all columns except the target\n",
    "X = df_encoded.drop(\"TARGET_PREDICTION_PERCENT\", axis=1)\n",
    "\n",
    "# Target is the specific output label\n",
    "y = df_encoded[\"TARGET_PREDICTION_PERCENT\"]\n"
   ]
  },
  {
   "cell_type": "code",
   "execution_count": 7,
   "id": "fcea82af",
   "metadata": {},
   "outputs": [
    {
     "name": "stdout",
     "output_type": "stream",
     "text": [
      "Features:\n",
      "   age  competative_exams  access_to_internet  study_hours_per_day  \\\n",
      "0   11                  0                   0                    4   \n",
      "1   14                  0                   1                    1   \n",
      "2   21                  1                   1                    6   \n",
      "3   24                  1                   0                    7   \n",
      "4   12                  0                   0                    5   \n",
      "\n",
      "   has_scholarship  extracurricular_activities  fam_fin_status  health  f_edu  \\\n",
      "0                0                           1               3       5      4   \n",
      "1                1                           0               4       2      5   \n",
      "2                0                           1               5       3      3   \n",
      "3                0                           0               4       2      2   \n",
      "4                1                           0               3       1      3   \n",
      "\n",
      "   m_edu  ...  fam_relation  prev_percent_1  prev_percent_2  prev_percent_3  \\\n",
      "0      5  ...             4              73              73              67   \n",
      "1      0  ...             2              96              87              80   \n",
      "2      4  ...             2              81              78              93   \n",
      "3      1  ...             4              77              71              88   \n",
      "4      3  ...             3              66              78              85   \n",
      "\n",
      "   gender_F  gender_M  residence_D  residence_H  location_R  location_U  \n",
      "0     False      True        False         True        True       False  \n",
      "1      True     False         True        False       False        True  \n",
      "2     False      True        False         True       False        True  \n",
      "3      True     False        False         True       False        True  \n",
      "4      True     False        False         True        True       False  \n",
      "\n",
      "[5 rows x 25 columns]\n",
      "\n",
      "Target:\n",
      "0    71\n",
      "1    87\n",
      "2    84\n",
      "3    78\n",
      "4    76\n",
      "Name: TARGET_PREDICTION_PERCENT, dtype: int64\n"
     ]
    }
   ],
   "source": [
    "# Display the first few rows of the features and target\n",
    "print(\"Features:\")\n",
    "print(X.head())\n",
    "\n",
    "print(\"\\nTarget:\")\n",
    "print(y.head())\n"
   ]
  },
  {
   "cell_type": "code",
   "execution_count": 8,
   "id": "d8023cc6",
   "metadata": {},
   "outputs": [
    {
     "name": "stdout",
     "output_type": "stream",
     "text": [
      "Training Features shape: (1647, 25)\n",
      "Testing Features shape: (412, 25)\n",
      "Training Target shape: (1647,)\n",
      "Testing Target shape: (412,)\n"
     ]
    }
   ],
   "source": [
    "import pandas as pd\n",
    "from sklearn.model_selection import train_test_split\n",
    "# Split the data into training and testing sets\n",
    "# 80% for training and 20% for testing\n",
    "X_train, X_test, y_train, y_test = train_test_split(X, y, test_size=0.2, random_state=42)\n",
    "\n",
    "# Verify the size of the splits\n",
    "print(\"Training Features shape:\", X_train.shape)\n",
    "print(\"Testing Features shape:\", X_test.shape)\n",
    "print(\"Training Target shape:\", y_train.shape)\n",
    "print(\"Testing Target shape:\", y_test.shape)"
   ]
  },
  {
   "cell_type": "code",
   "execution_count": 9,
   "id": "8a7662aa",
   "metadata": {},
   "outputs": [],
   "source": [
    "from sklearn.preprocessing import StandardScaler\n",
    "scaler=StandardScaler()"
   ]
  },
  {
   "cell_type": "code",
   "execution_count": 10,
   "id": "7946aeac",
   "metadata": {},
   "outputs": [],
   "source": [
    "X_train = scaler.fit_transform(X_train)\n",
    "# X_test=scaler.transform(X_test)"
   ]
  },
  {
   "cell_type": "code",
   "execution_count": 11,
   "id": "b576c2d9",
   "metadata": {},
   "outputs": [
    {
     "data": {
      "text/plain": [
       "array([[ 1.45674283, -0.89883447,  0.5024654 , ..., -0.88784774,\n",
       "        -0.78908814,  0.78908814],\n",
       "       [-0.70920869, -0.89883447,  0.5024654 , ...,  1.12631924,\n",
       "         1.26728555, -1.26728555],\n",
       "       [-0.39978704, -0.89883447,  0.5024654 , ...,  1.12631924,\n",
       "         1.26728555, -1.26728555],\n",
       "       ...,\n",
       "       [-1.32805198,  1.1125519 ,  0.5024654 , ..., -0.88784774,\n",
       "         1.26728555, -1.26728555],\n",
       "       [ 0.21905625,  1.1125519 ,  0.5024654 , ...,  1.12631924,\n",
       "        -0.78908814,  0.78908814],\n",
       "       [ 0.52847789,  1.1125519 , -1.99018677, ..., -0.88784774,\n",
       "        -0.78908814,  0.78908814]])"
      ]
     },
     "execution_count": 11,
     "metadata": {},
     "output_type": "execute_result"
    }
   ],
   "source": [
    "\n",
    "X_train"
   ]
  },
  {
   "cell_type": "code",
   "execution_count": 12,
   "id": "d1cf871c",
   "metadata": {},
   "outputs": [],
   "source": [
    "import tensorflow as tf\n",
    "import pandas as pd\n",
    "import numpy as np\n",
    "from sklearn.model_selection import train_test_split\n",
    "from sklearn.preprocessing import StandardScaler\n",
    "from sklearn.metrics import mean_absolute_error, mean_squared_error"
   ]
  },
  {
   "cell_type": "code",
   "execution_count": 13,
   "id": "0163c1f2",
   "metadata": {},
   "outputs": [],
   "source": [
    "# Build the model\n",
    "model = tf.keras.Sequential([\n",
    "    tf.keras.layers.Dense(25, activation='relu', input_shape=(X_train.shape[1],)),  # Input layer with 25 units and ReLU activation\n",
    "    tf.keras.layers.Dense(1)  # Output layer with 1 unit (for regression)\n",
    "])\n",
    "\n",
    "# Compile the model\n",
    "model.compile(\n",
    "    optimizer='adam',\n",
    "    loss='mean_squared_error',\n",
    "    metrics=['mae', tf.keras.metrics.RootMeanSquaredError()]  \n",
    ")"
   ]
  },
  {
   "cell_type": "code",
   "execution_count": 14,
   "id": "773e9f6f",
   "metadata": {},
   "outputs": [
    {
     "name": "stdout",
     "output_type": "stream",
     "text": [
      "Epoch 1/100\n",
      "165/165 [==============================] - 2s 2ms/step - loss: 6366.8032 - mae: 78.7786 - root_mean_squared_error: 79.7923\n",
      "Epoch 2/100\n",
      "165/165 [==============================] - 0s 2ms/step - loss: 5736.0322 - mae: 74.6860 - root_mean_squared_error: 75.7366\n",
      "Epoch 3/100\n",
      "165/165 [==============================] - 0s 2ms/step - loss: 4755.7515 - mae: 67.8893 - root_mean_squared_error: 68.9620\n",
      "Epoch 4/100\n",
      "165/165 [==============================] - 0s 2ms/step - loss: 3500.4128 - mae: 57.9841 - root_mean_squared_error: 59.1643\n",
      "Epoch 5/100\n",
      "165/165 [==============================] - 0s 2ms/step - loss: 2263.7969 - mae: 45.9648 - root_mean_squared_error: 47.5794\n",
      "Epoch 6/100\n",
      "165/165 [==============================] - 0s 2ms/step - loss: 1303.5107 - mae: 33.5383 - root_mean_squared_error: 36.1042\n",
      "Epoch 7/100\n",
      "165/165 [==============================] - 0s 2ms/step - loss: 706.9161 - mae: 23.0484 - root_mean_squared_error: 26.5879\n",
      "Epoch 8/100\n",
      "165/165 [==============================] - 0s 2ms/step - loss: 409.7751 - mae: 16.4449 - root_mean_squared_error: 20.2429\n",
      "Epoch 9/100\n",
      "165/165 [==============================] - 0s 2ms/step - loss: 285.0007 - mae: 13.3442 - root_mean_squared_error: 16.8820\n",
      "Epoch 10/100\n",
      "165/165 [==============================] - 0s 2ms/step - loss: 232.1244 - mae: 11.8073 - root_mean_squared_error: 15.2356\n",
      "Epoch 11/100\n",
      "165/165 [==============================] - 0s 2ms/step - loss: 204.3031 - mae: 10.9787 - root_mean_squared_error: 14.2935\n",
      "Epoch 12/100\n",
      "165/165 [==============================] - 0s 1ms/step - loss: 185.5105 - mae: 10.3853 - root_mean_squared_error: 13.6202\n",
      "Epoch 13/100\n",
      "165/165 [==============================] - 0s 3ms/step - loss: 170.7871 - mae: 9.9182 - root_mean_squared_error: 13.0686\n",
      "Epoch 14/100\n",
      "165/165 [==============================] - 0s 1ms/step - loss: 158.9410 - mae: 9.5210 - root_mean_squared_error: 12.6072\n",
      "Epoch 15/100\n",
      "165/165 [==============================] - 0s 2ms/step - loss: 149.2549 - mae: 9.1645 - root_mean_squared_error: 12.2170\n",
      "Epoch 16/100\n",
      "165/165 [==============================] - 0s 2ms/step - loss: 141.0805 - mae: 8.8794 - root_mean_squared_error: 11.8777\n",
      "Epoch 17/100\n",
      "165/165 [==============================] - 0s 1ms/step - loss: 134.3065 - mae: 8.6099 - root_mean_squared_error: 11.5891\n",
      "Epoch 18/100\n",
      "165/165 [==============================] - 0s 1ms/step - loss: 128.1126 - mae: 8.3773 - root_mean_squared_error: 11.3187\n",
      "Epoch 19/100\n",
      "165/165 [==============================] - 0s 919us/step - loss: 122.8947 - mae: 8.1636 - root_mean_squared_error: 11.0858\n",
      "Epoch 20/100\n",
      "165/165 [==============================] - 0s 1ms/step - loss: 118.4787 - mae: 7.9842 - root_mean_squared_error: 10.8848\n",
      "Epoch 21/100\n",
      "165/165 [==============================] - 0s 1ms/step - loss: 114.5310 - mae: 7.8400 - root_mean_squared_error: 10.7019\n",
      "Epoch 22/100\n",
      "165/165 [==============================] - 0s 966us/step - loss: 110.7652 - mae: 7.6967 - root_mean_squared_error: 10.5245\n",
      "Epoch 23/100\n",
      "165/165 [==============================] - 0s 895us/step - loss: 107.6140 - mae: 7.5433 - root_mean_squared_error: 10.3737\n",
      "Epoch 24/100\n",
      "165/165 [==============================] - 0s 1ms/step - loss: 104.7026 - mae: 7.4140 - root_mean_squared_error: 10.2324\n",
      "Epoch 25/100\n",
      "165/165 [==============================] - 0s 1ms/step - loss: 102.0841 - mae: 7.2967 - root_mean_squared_error: 10.1037\n",
      "Epoch 26/100\n",
      "165/165 [==============================] - 0s 1ms/step - loss: 99.7335 - mae: 7.2022 - root_mean_squared_error: 9.9867\n",
      "Epoch 27/100\n",
      "165/165 [==============================] - 0s 985us/step - loss: 97.4695 - mae: 7.0888 - root_mean_squared_error: 9.8727\n",
      "Epoch 28/100\n",
      "165/165 [==============================] - 0s 955us/step - loss: 95.7661 - mae: 7.0102 - root_mean_squared_error: 9.7860\n",
      "Epoch 29/100\n",
      "165/165 [==============================] - 0s 2ms/step - loss: 93.9994 - mae: 6.9301 - root_mean_squared_error: 9.6953\n",
      "Epoch 30/100\n",
      "165/165 [==============================] - 0s 2ms/step - loss: 92.3880 - mae: 6.8527 - root_mean_squared_error: 9.6119\n",
      "Epoch 31/100\n",
      "165/165 [==============================] - 0s 2ms/step - loss: 90.8690 - mae: 6.7743 - root_mean_squared_error: 9.5325\n",
      "Epoch 32/100\n",
      "165/165 [==============================] - 0s 3ms/step - loss: 89.3238 - mae: 6.6901 - root_mean_squared_error: 9.4511\n",
      "Epoch 33/100\n",
      "165/165 [==============================] - 0s 2ms/step - loss: 88.0981 - mae: 6.6287 - root_mean_squared_error: 9.3861\n",
      "Epoch 34/100\n",
      "165/165 [==============================] - 0s 2ms/step - loss: 87.0732 - mae: 6.5671 - root_mean_squared_error: 9.3313\n",
      "Epoch 35/100\n",
      "165/165 [==============================] - 0s 2ms/step - loss: 85.8181 - mae: 6.5094 - root_mean_squared_error: 9.2638\n",
      "Epoch 36/100\n",
      "165/165 [==============================] - 0s 2ms/step - loss: 84.8529 - mae: 6.4735 - root_mean_squared_error: 9.2116\n",
      "Epoch 37/100\n",
      "165/165 [==============================] - 0s 2ms/step - loss: 83.8975 - mae: 6.4126 - root_mean_squared_error: 9.1596\n",
      "Epoch 38/100\n",
      "165/165 [==============================] - 0s 2ms/step - loss: 82.9025 - mae: 6.3773 - root_mean_squared_error: 9.1051\n",
      "Epoch 39/100\n",
      "165/165 [==============================] - 0s 2ms/step - loss: 81.9996 - mae: 6.3329 - root_mean_squared_error: 9.0554\n",
      "Epoch 40/100\n",
      "165/165 [==============================] - 0s 2ms/step - loss: 81.4053 - mae: 6.2783 - root_mean_squared_error: 9.0225\n",
      "Epoch 41/100\n",
      "165/165 [==============================] - 0s 2ms/step - loss: 80.9086 - mae: 6.2587 - root_mean_squared_error: 8.9949\n",
      "Epoch 42/100\n",
      "165/165 [==============================] - 0s 2ms/step - loss: 79.9535 - mae: 6.2163 - root_mean_squared_error: 8.9417\n",
      "Epoch 43/100\n",
      "165/165 [==============================] - 0s 2ms/step - loss: 79.4992 - mae: 6.2102 - root_mean_squared_error: 8.9162\n",
      "Epoch 44/100\n",
      "165/165 [==============================] - 0s 2ms/step - loss: 78.6405 - mae: 6.1742 - root_mean_squared_error: 8.8679\n",
      "Epoch 45/100\n",
      "165/165 [==============================] - 0s 2ms/step - loss: 77.9432 - mae: 6.0974 - root_mean_squared_error: 8.8285\n",
      "Epoch 46/100\n",
      "165/165 [==============================] - 0s 2ms/step - loss: 77.5875 - mae: 6.0981 - root_mean_squared_error: 8.8084\n",
      "Epoch 47/100\n",
      "165/165 [==============================] - 0s 2ms/step - loss: 76.9500 - mae: 6.0648 - root_mean_squared_error: 8.7721\n",
      "Epoch 48/100\n",
      "165/165 [==============================] - 0s 2ms/step - loss: 76.5094 - mae: 6.0260 - root_mean_squared_error: 8.7470\n",
      "Epoch 49/100\n",
      "165/165 [==============================] - 0s 1ms/step - loss: 75.8787 - mae: 6.0283 - root_mean_squared_error: 8.7108\n",
      "Epoch 50/100\n",
      "165/165 [==============================] - 0s 2ms/step - loss: 75.2357 - mae: 5.9867 - root_mean_squared_error: 8.6739\n",
      "Epoch 51/100\n",
      "165/165 [==============================] - 0s 2ms/step - loss: 74.8280 - mae: 5.9613 - root_mean_squared_error: 8.6503\n",
      "Epoch 52/100\n",
      "165/165 [==============================] - 0s 2ms/step - loss: 74.3979 - mae: 5.9299 - root_mean_squared_error: 8.6254\n",
      "Epoch 53/100\n",
      "165/165 [==============================] - 0s 2ms/step - loss: 73.9543 - mae: 5.9271 - root_mean_squared_error: 8.5997\n",
      "Epoch 54/100\n",
      "165/165 [==============================] - 0s 1ms/step - loss: 73.3066 - mae: 5.8730 - root_mean_squared_error: 8.5619\n",
      "Epoch 55/100\n",
      "165/165 [==============================] - 0s 2ms/step - loss: 73.2518 - mae: 5.8856 - root_mean_squared_error: 8.5587\n",
      "Epoch 56/100\n",
      "165/165 [==============================] - 0s 2ms/step - loss: 72.7036 - mae: 5.8675 - root_mean_squared_error: 8.5266\n",
      "Epoch 57/100\n",
      "165/165 [==============================] - 0s 2ms/step - loss: 72.0523 - mae: 5.8346 - root_mean_squared_error: 8.4884\n",
      "Epoch 58/100\n",
      "165/165 [==============================] - 0s 2ms/step - loss: 71.9486 - mae: 5.8195 - root_mean_squared_error: 8.4823\n",
      "Epoch 59/100\n",
      "165/165 [==============================] - 0s 2ms/step - loss: 71.7160 - mae: 5.8151 - root_mean_squared_error: 8.4685\n",
      "Epoch 60/100\n",
      "165/165 [==============================] - 0s 2ms/step - loss: 71.1973 - mae: 5.7761 - root_mean_squared_error: 8.4378\n",
      "Epoch 61/100\n",
      "165/165 [==============================] - 0s 2ms/step - loss: 70.8734 - mae: 5.7625 - root_mean_squared_error: 8.4186\n",
      "Epoch 62/100\n",
      "165/165 [==============================] - 0s 2ms/step - loss: 70.6203 - mae: 5.7532 - root_mean_squared_error: 8.4036\n",
      "Epoch 63/100\n",
      "165/165 [==============================] - 0s 2ms/step - loss: 70.2542 - mae: 5.7490 - root_mean_squared_error: 8.3818\n",
      "Epoch 64/100\n",
      "165/165 [==============================] - 0s 2ms/step - loss: 69.9190 - mae: 5.7254 - root_mean_squared_error: 8.3618\n",
      "Epoch 65/100\n",
      "165/165 [==============================] - 0s 2ms/step - loss: 69.6425 - mae: 5.6911 - root_mean_squared_error: 8.3452\n",
      "Epoch 66/100\n",
      "165/165 [==============================] - 0s 3ms/step - loss: 69.2128 - mae: 5.7041 - root_mean_squared_error: 8.3194\n",
      "Epoch 67/100\n",
      "165/165 [==============================] - 0s 3ms/step - loss: 69.1494 - mae: 5.6873 - root_mean_squared_error: 8.3156\n",
      "Epoch 68/100\n",
      "165/165 [==============================] - 0s 2ms/step - loss: 68.8460 - mae: 5.6788 - root_mean_squared_error: 8.2973\n",
      "Epoch 69/100\n",
      "165/165 [==============================] - 0s 2ms/step - loss: 68.5653 - mae: 5.6660 - root_mean_squared_error: 8.2804\n",
      "Epoch 70/100\n",
      "165/165 [==============================] - 0s 1ms/step - loss: 68.3714 - mae: 5.6486 - root_mean_squared_error: 8.2687\n",
      "Epoch 71/100\n",
      "165/165 [==============================] - 0s 2ms/step - loss: 68.1740 - mae: 5.6380 - root_mean_squared_error: 8.2568\n",
      "Epoch 72/100\n",
      "165/165 [==============================] - 0s 2ms/step - loss: 67.7994 - mae: 5.6299 - root_mean_squared_error: 8.2340\n",
      "Epoch 73/100\n",
      "165/165 [==============================] - 0s 3ms/step - loss: 67.5761 - mae: 5.6000 - root_mean_squared_error: 8.2205\n",
      "Epoch 74/100\n",
      "165/165 [==============================] - 0s 2ms/step - loss: 67.4961 - mae: 5.6071 - root_mean_squared_error: 8.2156\n",
      "Epoch 75/100\n",
      "165/165 [==============================] - 0s 2ms/step - loss: 67.2187 - mae: 5.6080 - root_mean_squared_error: 8.1987\n",
      "Epoch 76/100\n",
      "165/165 [==============================] - 0s 2ms/step - loss: 67.0133 - mae: 5.5764 - root_mean_squared_error: 8.1862\n",
      "Epoch 77/100\n",
      "165/165 [==============================] - 0s 2ms/step - loss: 66.8244 - mae: 5.5736 - root_mean_squared_error: 8.1746\n",
      "Epoch 78/100\n",
      "165/165 [==============================] - 0s 2ms/step - loss: 66.7294 - mae: 5.5833 - root_mean_squared_error: 8.1688\n",
      "Epoch 79/100\n",
      "165/165 [==============================] - 0s 2ms/step - loss: 66.5835 - mae: 5.5491 - root_mean_squared_error: 8.1599\n",
      "Epoch 80/100\n",
      "165/165 [==============================] - 0s 2ms/step - loss: 66.3053 - mae: 5.5752 - root_mean_squared_error: 8.1428\n",
      "Epoch 81/100\n",
      "165/165 [==============================] - 0s 2ms/step - loss: 66.0803 - mae: 5.5242 - root_mean_squared_error: 8.1290\n",
      "Epoch 82/100\n",
      "165/165 [==============================] - 0s 2ms/step - loss: 65.9118 - mae: 5.5463 - root_mean_squared_error: 8.1186\n",
      "Epoch 83/100\n",
      "165/165 [==============================] - 0s 2ms/step - loss: 65.8791 - mae: 5.5226 - root_mean_squared_error: 8.1166\n",
      "Epoch 84/100\n",
      "165/165 [==============================] - 0s 2ms/step - loss: 65.7417 - mae: 5.5539 - root_mean_squared_error: 8.1081\n",
      "Epoch 85/100\n",
      "165/165 [==============================] - 0s 2ms/step - loss: 65.5213 - mae: 5.5287 - root_mean_squared_error: 8.0945\n",
      "Epoch 86/100\n",
      "165/165 [==============================] - 0s 2ms/step - loss: 65.5507 - mae: 5.5231 - root_mean_squared_error: 8.0963\n",
      "Epoch 87/100\n",
      "165/165 [==============================] - 0s 1ms/step - loss: 65.3310 - mae: 5.4948 - root_mean_squared_error: 8.0828\n",
      "Epoch 88/100\n",
      "165/165 [==============================] - 0s 1ms/step - loss: 65.0644 - mae: 5.4741 - root_mean_squared_error: 8.0662\n",
      "Epoch 89/100\n",
      "165/165 [==============================] - 0s 1ms/step - loss: 64.9154 - mae: 5.4858 - root_mean_squared_error: 8.0570\n",
      "Epoch 90/100\n",
      "165/165 [==============================] - 0s 1ms/step - loss: 64.7869 - mae: 5.5148 - root_mean_squared_error: 8.0490\n",
      "Epoch 91/100\n",
      "165/165 [==============================] - 0s 1ms/step - loss: 64.7471 - mae: 5.4617 - root_mean_squared_error: 8.0466\n",
      "Epoch 92/100\n",
      "165/165 [==============================] - 0s 1ms/step - loss: 64.5876 - mae: 5.4902 - root_mean_squared_error: 8.0366\n",
      "Epoch 93/100\n",
      "165/165 [==============================] - 0s 1ms/step - loss: 64.2882 - mae: 5.4594 - root_mean_squared_error: 8.0180\n",
      "Epoch 94/100\n",
      "165/165 [==============================] - 0s 1ms/step - loss: 64.2697 - mae: 5.4444 - root_mean_squared_error: 8.0168\n",
      "Epoch 95/100\n",
      "165/165 [==============================] - 0s 1ms/step - loss: 63.9933 - mae: 5.4421 - root_mean_squared_error: 7.9996\n",
      "Epoch 96/100\n",
      "165/165 [==============================] - 0s 972us/step - loss: 64.0162 - mae: 5.4634 - root_mean_squared_error: 8.0010\n",
      "Epoch 97/100\n",
      "165/165 [==============================] - 0s 1ms/step - loss: 63.9282 - mae: 5.4581 - root_mean_squared_error: 7.9955\n",
      "Epoch 98/100\n",
      "165/165 [==============================] - 0s 958us/step - loss: 63.7841 - mae: 5.4325 - root_mean_squared_error: 7.9865\n",
      "Epoch 99/100\n",
      "165/165 [==============================] - 0s 2ms/step - loss: 63.6277 - mae: 5.4527 - root_mean_squared_error: 7.9767\n",
      "Epoch 100/100\n",
      "165/165 [==============================] - 0s 3ms/step - loss: 63.4506 - mae: 5.4287 - root_mean_squared_error: 7.9656\n"
     ]
    },
    {
     "data": {
      "text/plain": [
       "<keras.callbacks.History at 0x17395152380>"
      ]
     },
     "execution_count": 14,
     "metadata": {},
     "output_type": "execute_result"
    }
   ],
   "source": [
    "# Train the model\n",
    "model.fit(X_train, y_train, epochs=100, batch_size=10)\n"
   ]
  },
  {
   "cell_type": "code",
   "execution_count": 2,
   "id": "6bd0bb4c",
   "metadata": {},
   "outputs": [],
   "source": [
    "# Step 1: Importing necessary libraries\n",
    "import pandas as pd\n",
    "from sklearn.model_selection import train_test_split\n",
    "\n",
    "# Step 2: Load the dataset\n",
    "data = pd.read_csv(\"Final_Training_Data.csv\")\n",
    "\n",
    "# Step 3: Shuffle and split the data into training and testing subsets (80-20 split)\n",
    "train, test = train_test_split(data, test_size=0.2, random_state=42)\n",
    "\n",
    "# Step 4: Save the training data to 'train.csv' and testing data to 'test.csv'\n",
    "train.to_csv(\"train.csv\", index=False)\n",
    "test.to_csv(\"test.csv\", index=False)\n"
   ]
  },
  {
   "cell_type": "code",
   "execution_count": 15,
   "id": "8f5032ff",
   "metadata": {},
   "outputs": [],
   "source": [
    "import pandas as pd\n",
    "test=pd.read_csv(\"test.csv\")"
   ]
  },
  {
   "cell_type": "code",
   "execution_count": 16,
   "id": "6ab26bf9",
   "metadata": {},
   "outputs": [
    {
     "name": "stdout",
     "output_type": "stream",
     "text": [
      "(412, 23)\n"
     ]
    },
    {
     "data": {
      "text/plain": [
       "Index(['age', 'gender', 'residence', 'competative_exams', 'access_to_internet',\n",
       "       'study_hours_per_day', 'has_scholarship', 'extracurricular_activities',\n",
       "       'fam_fin_status', 'health', 'location', 'f_edu', 'm_edu', 'f_job',\n",
       "       'm_job', 'alcoholic', 'additional_tuition', 'fam_size', 'fam_relation',\n",
       "       'prev_percent_1', 'prev_percent_2', 'prev_percent_3',\n",
       "       'TARGET_PREDICTION_PERCENT'],\n",
       "      dtype='object')"
      ]
     },
     "execution_count": 16,
     "metadata": {},
     "output_type": "execute_result"
    }
   ],
   "source": [
    "print(test.shape)\n",
    "test.columns"
   ]
  },
  {
   "cell_type": "code",
   "execution_count": 17,
   "id": "893f17e5",
   "metadata": {},
   "outputs": [
    {
     "name": "stdout",
     "output_type": "stream",
     "text": [
      "(412, 26)\n"
     ]
    },
    {
     "data": {
      "text/plain": [
       "Index(['age', 'competative_exams', 'access_to_internet', 'study_hours_per_day',\n",
       "       'has_scholarship', 'extracurricular_activities', 'fam_fin_status',\n",
       "       'health', 'f_edu', 'm_edu', 'f_job', 'm_job', 'alcoholic',\n",
       "       'additional_tuition', 'fam_size', 'fam_relation', 'prev_percent_1',\n",
       "       'prev_percent_2', 'prev_percent_3', 'TARGET_PREDICTION_PERCENT',\n",
       "       'gender_F', 'gender_M', 'residence_D', 'residence_H', 'location_R',\n",
       "       'location_U'],\n",
       "      dtype='object')"
      ]
     },
     "execution_count": 17,
     "metadata": {},
     "output_type": "execute_result"
    }
   ],
   "source": [
    "test_encoded = pd.get_dummies(test,columns=[\"gender\",\"residence\",\"location\"])\n",
    "print(test_encoded.shape)\n",
    "test_encoded.columns"
   ]
  },
  {
   "cell_type": "code",
   "execution_count": 18,
   "id": "57165b57",
   "metadata": {},
   "outputs": [],
   "source": [
    "# Features are all columns except the target\n",
    "test_encoded_x = test_encoded.drop(\"TARGET_PREDICTION_PERCENT\", axis=1)\n",
    "\n",
    "# Target is the specific output label\n",
    "test_encoded_y = test_encoded[\"TARGET_PREDICTION_PERCENT\"]\n"
   ]
  },
  {
   "cell_type": "code",
   "execution_count": 19,
   "id": "6d13eb4b",
   "metadata": {},
   "outputs": [],
   "source": [
    "test_transform_x=scaler.fit_transform(test_encoded_x)"
   ]
  },
  {
   "cell_type": "code",
   "execution_count": 20,
   "id": "84e57561",
   "metadata": {},
   "outputs": [
    {
     "data": {
      "text/plain": [
       "array([[ 0.46366033, -0.91165296, -2.02148949, ..., -0.94795438,\n",
       "         1.17537351, -1.17537351],\n",
       "       [ 0.77630854,  1.09690864, -2.02148949, ...,  1.05490308,\n",
       "        -0.85079338,  0.85079338],\n",
       "       [ 1.08895675, -0.91165296, -2.02148949, ..., -0.94795438,\n",
       "         1.17537351, -1.17537351],\n",
       "       ...,\n",
       "       [-0.16163609, -0.91165296,  0.49468474, ...,  1.05490308,\n",
       "        -0.85079338,  0.85079338],\n",
       "       [-0.16163609, -0.91165296,  0.49468474, ..., -0.94795438,\n",
       "        -0.85079338,  0.85079338],\n",
       "       [ 0.15101212,  1.09690864,  0.49468474, ...,  1.05490308,\n",
       "        -0.85079338,  0.85079338]])"
      ]
     },
     "execution_count": 20,
     "metadata": {},
     "output_type": "execute_result"
    }
   ],
   "source": [
    "test_transform_x"
   ]
  },
  {
   "cell_type": "code",
   "execution_count": 26,
   "id": "26a8fa9a",
   "metadata": {},
   "outputs": [
    {
     "name": "stdout",
     "output_type": "stream",
     "text": [
      "13/13 [==============================] - 1s 2ms/step\n"
     ]
    }
   ],
   "source": [
    "import numpy as np\n",
    "\n",
    "#  Assuming 'target_column' is the name of your target variable\n",
    "predictions = model.predict(test_transform_x)  # Convert X_test to a NumPy array\n",
    "\n",
    "#"
   ]
  },
  {
   "cell_type": "code",
   "execution_count": 28,
   "id": "9a5a1794",
   "metadata": {},
   "outputs": [],
   "source": [
    "test['Predicted_Value'] = predictions"
   ]
  },
  {
   "cell_type": "code",
   "execution_count": 29,
   "id": "d8a92d91",
   "metadata": {},
   "outputs": [],
   "source": [
    "test.to_csv(\"predictions.csv\", index=False)"
   ]
  },
  {
   "cell_type": "code",
   "execution_count": null,
   "id": "91638e18",
   "metadata": {},
   "outputs": [],
   "source": []
  }
 ],
 "metadata": {
  "jupytext": {
   "cell_metadata_filter": "-all",
   "notebook_metadata_filter": "-all"
  },
  "kernelspec": {
   "display_name": "Python 3",
   "language": "python",
   "name": "python3"
  },
  "language_info": {
   "codemirror_mode": {
    "name": "ipython",
    "version": 3
   },
   "file_extension": ".py",
   "mimetype": "text/x-python",
   "name": "python",
   "nbconvert_exporter": "python",
   "pygments_lexer": "ipython3",
   "version": "3.10.0"
  }
 },
 "nbformat": 4,
 "nbformat_minor": 5
}
