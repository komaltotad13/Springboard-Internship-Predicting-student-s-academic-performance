{
 "cells": [
  {
   "cell_type": "code",
   "execution_count": 81,
   "metadata": {},
   "outputs": [],
   "source": [
    "import pandas as pd"
   ]
  },
  {
   "cell_type": "code",
   "execution_count": 82,
   "id": "0d43e4bf",
   "metadata": {},
   "outputs": [
    {
     "name": "stdout",
     "output_type": "stream",
     "text": [
      "      age gender residence  competative_exams  access_to_internet  \\\n",
      "0      11      M         H                  0                   0   \n",
      "1      14      F         D                  0                   1   \n",
      "2      21      M         H                  1                   1   \n",
      "3      24      F         H                  1                   0   \n",
      "4      12      F         H                  0                   0   \n",
      "...   ...    ...       ...                ...                 ...   \n",
      "2054   18      F         H                  1                   1   \n",
      "2055   20      M         H                  0                   0   \n",
      "2056   26      F         H                  1                   0   \n",
      "2057   27      M         D                  1                   0   \n",
      "2058   18      F         D                  1                   0   \n",
      "\n",
      "      study_hours_per_day  has_scholarship  extracurricular_activities  \\\n",
      "0                       4                0                           1   \n",
      "1                       1                1                           0   \n",
      "2                       6                0                           1   \n",
      "3                       7                0                           0   \n",
      "4                       5                1                           0   \n",
      "...                   ...              ...                         ...   \n",
      "2054                   10                0                           0   \n",
      "2055                    6                0                           0   \n",
      "2056                    4                0                           0   \n",
      "2057                    6                1                           1   \n",
      "2058                   10                0                           0   \n",
      "\n",
      "      fam_fin_status  health  ... f_job  m_job  alcoholic  additional_tuition  \\\n",
      "0                  3       5  ...     0      0          0                   1   \n",
      "1                  4       2  ...     1      0          0                   0   \n",
      "2                  5       3  ...     1      1          1                   0   \n",
      "3                  4       2  ...     1      1          1                   1   \n",
      "4                  3       1  ...     1      0          0                   1   \n",
      "...              ...     ...  ...   ...    ...        ...                 ...   \n",
      "2054               4       5  ...     1      0          0                   1   \n",
      "2055               2       5  ...     1      1          3                   0   \n",
      "2056               1       4  ...     1      0          1                   1   \n",
      "2057               3       5  ...     1      0          4                   1   \n",
      "2058               2       4  ...     1      1          1                   0   \n",
      "\n",
      "      fam_size  fam_relation  prev_percent_1  prev_percent_2  prev_percent_3  \\\n",
      "0           14             4              73              73              67   \n",
      "1            1             2              96              87              80   \n",
      "2           15             2              81              78              93   \n",
      "3           15             4              77              71              88   \n",
      "4           13             3              66              78              85   \n",
      "...        ...           ...             ...             ...             ...   \n",
      "2054         4             1              71              80              61   \n",
      "2055         4             1              68              61              81   \n",
      "2056         3             3              72              55              86   \n",
      "2057         5             3              53              58              83   \n",
      "2058         4             5              58              85              82   \n",
      "\n",
      "      TARGET_PREDICTION_PERCENT  \n",
      "0                            71  \n",
      "1                            87  \n",
      "2                            84  \n",
      "3                            78  \n",
      "4                            76  \n",
      "...                         ...  \n",
      "2054                         74  \n",
      "2055                         77  \n",
      "2056                         68  \n",
      "2057                         79  \n",
      "2058                         64  \n",
      "\n",
      "[2059 rows x 23 columns]\n"
     ]
    }
   ],
   "source": [
    "file_path = \"Final_Training_Data.csv\"  \n",
    "df = pd.read_csv(file_path)\n",
    "print(df)"
   ]
  },
  {
   "cell_type": "code",
   "execution_count": 83,
   "id": "41474676",
   "metadata": {},
   "outputs": [],
   "source": [
    "df_encoded = pd.get_dummies(df,columns=[\"gender\",\"residence\",\"location\"])"
   ]
  },
  {
   "cell_type": "code",
   "execution_count": 84,
   "id": "809117b5",
   "metadata": {},
   "outputs": [
    {
     "data": {
      "text/plain": [
       "(2059, 26)"
      ]
     },
     "execution_count": 84,
     "metadata": {},
     "output_type": "execute_result"
    }
   ],
   "source": [
    "df_encoded.shape"
   ]
  },
  {
   "cell_type": "code",
   "execution_count": 85,
   "id": "752ae6c5",
   "metadata": {},
   "outputs": [
    {
     "data": {
      "text/plain": [
       "Index(['age', 'competative_exams', 'access_to_internet', 'study_hours_per_day',\n",
       "       'has_scholarship', 'extracurricular_activities', 'fam_fin_status',\n",
       "       'health', 'f_edu', 'm_edu', 'f_job', 'm_job', 'alcoholic',\n",
       "       'additional_tuition', 'fam_size', 'fam_relation', 'prev_percent_1',\n",
       "       'prev_percent_2', 'prev_percent_3', 'TARGET_PREDICTION_PERCENT',\n",
       "       'gender_F', 'gender_M', 'residence_D', 'residence_H', 'location_R',\n",
       "       'location_U'],\n",
       "      dtype='object')"
      ]
     },
     "execution_count": 85,
     "metadata": {},
     "output_type": "execute_result"
    }
   ],
   "source": [
    "df_encoded.columns"
   ]
  },
  {
   "cell_type": "code",
   "execution_count": 86,
   "id": "447ede69",
   "metadata": {},
   "outputs": [],
   "source": [
    "# Features are all columns except the target\n",
    "X = df_encoded.drop(\"TARGET_PREDICTION_PERCENT\", axis=1)\n",
    "\n",
    "# Target is the specific output label\n",
    "y = df_encoded[\"TARGET_PREDICTION_PERCENT\"]\n"
   ]
  },
  {
   "cell_type": "code",
   "execution_count": 87,
   "id": "fcea82af",
   "metadata": {},
   "outputs": [
    {
     "name": "stdout",
     "output_type": "stream",
     "text": [
      "Features:\n",
      "   age  competative_exams  access_to_internet  study_hours_per_day  \\\n",
      "0   11                  0                   0                    4   \n",
      "1   14                  0                   1                    1   \n",
      "2   21                  1                   1                    6   \n",
      "3   24                  1                   0                    7   \n",
      "4   12                  0                   0                    5   \n",
      "\n",
      "   has_scholarship  extracurricular_activities  fam_fin_status  health  f_edu  \\\n",
      "0                0                           1               3       5      4   \n",
      "1                1                           0               4       2      5   \n",
      "2                0                           1               5       3      3   \n",
      "3                0                           0               4       2      2   \n",
      "4                1                           0               3       1      3   \n",
      "\n",
      "   m_edu  ...  fam_relation  prev_percent_1  prev_percent_2  prev_percent_3  \\\n",
      "0      5  ...             4              73              73              67   \n",
      "1      0  ...             2              96              87              80   \n",
      "2      4  ...             2              81              78              93   \n",
      "3      1  ...             4              77              71              88   \n",
      "4      3  ...             3              66              78              85   \n",
      "\n",
      "   gender_F  gender_M  residence_D  residence_H  location_R  location_U  \n",
      "0     False      True        False         True        True       False  \n",
      "1      True     False         True        False       False        True  \n",
      "2     False      True        False         True       False        True  \n",
      "3      True     False        False         True       False        True  \n",
      "4      True     False        False         True        True       False  \n",
      "\n",
      "[5 rows x 25 columns]\n",
      "\n",
      "Target:\n",
      "0    71\n",
      "1    87\n",
      "2    84\n",
      "3    78\n",
      "4    76\n",
      "Name: TARGET_PREDICTION_PERCENT, dtype: int64\n"
     ]
    }
   ],
   "source": [
    "# Display the first few rows of the features and target\n",
    "print(\"Features:\")\n",
    "print(X.head())\n",
    "\n",
    "print(\"\\nTarget:\")\n",
    "print(y.head())\n"
   ]
  },
  {
   "cell_type": "code",
   "execution_count": 88,
   "id": "d8023cc6",
   "metadata": {},
   "outputs": [
    {
     "name": "stdout",
     "output_type": "stream",
     "text": [
      "Training Features shape: (1647, 25)\n",
      "Testing Features shape: (412, 25)\n",
      "Training Target shape: (1647,)\n",
      "Testing Target shape: (412,)\n"
     ]
    }
   ],
   "source": [
    "import pandas as pd\n",
    "from sklearn.model_selection import train_test_split\n",
    "# Split the data into training and testing sets\n",
    "# 80% for training and 20% for testing\n",
    "X_train, X_test, y_train, y_test = train_test_split(X, y, test_size=0.2, random_state=42)\n",
    "\n",
    "# Verify the size of the splits\n",
    "print(\"Training Features shape:\", X_train.shape)\n",
    "print(\"Testing Features shape:\", X_test.shape)\n",
    "print(\"Training Target shape:\", y_train.shape)\n",
    "print(\"Testing Target shape:\", y_test.shape)"
   ]
  },
  {
   "cell_type": "code",
   "execution_count": 8,
   "id": "8a7662aa",
   "metadata": {},
   "outputs": [],
   "source": [
    "from sklearn.preprocessing import StandardScaler\n",
    "scaler=StandardScaler()"
   ]
  },
  {
   "cell_type": "code",
   "execution_count": 172,
   "id": "7946aeac",
   "metadata": {},
   "outputs": [],
   "source": [
    "X_train = scaler.fit_transform(X_train)\n",
    "# X_test=scaler.transform(X_test)"
   ]
  },
  {
   "cell_type": "code",
   "execution_count": 173,
   "id": "b576c2d9",
   "metadata": {},
   "outputs": [
    {
     "data": {
      "text/plain": [
       "array([[ 1.45674283, -0.89883447,  0.5024654 , ..., -0.88784774,\n",
       "        -0.78908814,  0.78908814],\n",
       "       [-0.70920869, -0.89883447,  0.5024654 , ...,  1.12631924,\n",
       "         1.26728555, -1.26728555],\n",
       "       [-0.39978704, -0.89883447,  0.5024654 , ...,  1.12631924,\n",
       "         1.26728555, -1.26728555],\n",
       "       ...,\n",
       "       [-1.32805198,  1.1125519 ,  0.5024654 , ..., -0.88784774,\n",
       "         1.26728555, -1.26728555],\n",
       "       [ 0.21905625,  1.1125519 ,  0.5024654 , ...,  1.12631924,\n",
       "        -0.78908814,  0.78908814],\n",
       "       [ 0.52847789,  1.1125519 , -1.99018677, ..., -0.88784774,\n",
       "        -0.78908814,  0.78908814]])"
      ]
     },
     "execution_count": 173,
     "metadata": {},
     "output_type": "execute_result"
    }
   ],
   "source": [
    "\n",
    "X_train"
   ]
  },
  {
   "cell_type": "code",
   "execution_count": 134,
   "id": "d1cf871c",
   "metadata": {},
   "outputs": [],
   "source": [
    "import tensorflow as tf\n",
    "import pandas as pd\n",
    "import numpy as np\n",
    "from sklearn.model_selection import train_test_split\n",
    "from sklearn.preprocessing import StandardScaler\n",
    "from sklearn.metrics import mean_absolute_error, mean_squared_error"
   ]
  },
  {
   "cell_type": "code",
   "execution_count": 138,
   "id": "0163c1f2",
   "metadata": {},
   "outputs": [],
   "source": [
    "# Build the model\n",
    "model = tf.keras.Sequential([\n",
    "    tf.keras.layers.Dense(25, activation='relu', input_shape=(X_train.shape[1],)),  # Input layer with 25 units and ReLU activation\n",
    "    tf.keras.layers.Dense(1)  # Output layer with 1 unit (for regression)\n",
    "])\n",
    "\n",
    "# Compile the model\n",
    "model.compile(\n",
    "    optimizer='adam',\n",
    "    loss='mean_squared_error',\n",
    "    metrics=['mae', tf.keras.metrics.RootMeanSquaredError()]  \n",
    ")"
   ]
  },
  {
   "cell_type": "code",
   "execution_count": 139,
   "id": "773e9f6f",
   "metadata": {},
   "outputs": [
    {
     "name": "stdout",
     "output_type": "stream",
     "text": [
      "Epoch 1/100\n",
      "WARNING:tensorflow:AutoGraph could not transform <function Model.make_train_function.<locals>.train_function at 0x0000014A2E3605E0> and will run it as-is.\n",
      "Cause: Unable to locate the source code of <function Model.make_train_function.<locals>.train_function at 0x0000014A2E3605E0>. Note that functions defined in certain environments, like the interactive Python shell, do not expose their source code. If that is the case, you should define them in a .py source file. If you are certain the code is graph-compatible, wrap the call using @tf.autograph.experimental.do_not_convert. Original error: could not get source code\n",
      "To silence this warning, decorate the function with @tf.autograph.experimental.do_not_convert\n",
      "WARNING: AutoGraph could not transform <function Model.make_train_function.<locals>.train_function at 0x0000014A2E3605E0> and will run it as-is.\n",
      "Cause: Unable to locate the source code of <function Model.make_train_function.<locals>.train_function at 0x0000014A2E3605E0>. Note that functions defined in certain environments, like the interactive Python shell, do not expose their source code. If that is the case, you should define them in a .py source file. If you are certain the code is graph-compatible, wrap the call using @tf.autograph.experimental.do_not_convert. Original error: could not get source code\n",
      "To silence this warning, decorate the function with @tf.autograph.experimental.do_not_convert\n",
      "165/165 [==============================] - 3s 2ms/step - loss: 6412.7432 - mae: 79.0455 - root_mean_squared_error: 80.0796\n",
      "Epoch 2/100\n",
      "165/165 [==============================] - 0s 3ms/step - loss: 5801.5454 - mae: 75.1008 - root_mean_squared_error: 76.1679\n",
      "Epoch 3/100\n",
      "165/165 [==============================] - 0s 2ms/step - loss: 4910.6797 - mae: 68.9520 - root_mean_squared_error: 70.0762\n",
      "Epoch 4/100\n",
      "165/165 [==============================] - 0s 2ms/step - loss: 3776.3855 - mae: 60.1858 - root_mean_squared_error: 61.4523\n",
      "Epoch 5/100\n",
      "165/165 [==============================] - 0s 2ms/step - loss: 2609.7441 - mae: 49.3786 - root_mean_squared_error: 51.0857\n",
      "Epoch 6/100\n",
      "165/165 [==============================] - 0s 2ms/step - loss: 1630.9664 - mae: 37.8769 - root_mean_squared_error: 40.3852\n",
      "Epoch 7/100\n",
      "165/165 [==============================] - 0s 2ms/step - loss: 949.3713 - mae: 27.3703 - root_mean_squared_error: 30.8119\n",
      "Epoch 8/100\n",
      "165/165 [==============================] - 0s 3ms/step - loss: 551.5842 - mae: 19.7803 - root_mean_squared_error: 23.4858\n",
      "Epoch 9/100\n",
      "165/165 [==============================] - 0s 2ms/step - loss: 355.4427 - mae: 15.1865 - root_mean_squared_error: 18.8532\n",
      "Epoch 10/100\n",
      "165/165 [==============================] - 0s 2ms/step - loss: 269.5572 - mae: 12.8780 - root_mean_squared_error: 16.4182\n",
      "Epoch 11/100\n",
      "165/165 [==============================] - 0s 2ms/step - loss: 228.6193 - mae: 11.7117 - root_mean_squared_error: 15.1202\n",
      "Epoch 12/100\n",
      "165/165 [==============================] - 0s 2ms/step - loss: 204.1673 - mae: 10.9656 - root_mean_squared_error: 14.2887\n",
      "Epoch 13/100\n",
      "165/165 [==============================] - 0s 2ms/step - loss: 186.4412 - mae: 10.4383 - root_mean_squared_error: 13.6543\n",
      "Epoch 14/100\n",
      "165/165 [==============================] - 0s 2ms/step - loss: 172.3801 - mae: 9.9859 - root_mean_squared_error: 13.1294\n",
      "Epoch 15/100\n",
      "165/165 [==============================] - 0s 2ms/step - loss: 160.3087 - mae: 9.5827 - root_mean_squared_error: 12.6613\n",
      "Epoch 16/100\n",
      "165/165 [==============================] - 0s 3ms/step - loss: 150.3248 - mae: 9.2322 - root_mean_squared_error: 12.2607\n",
      "Epoch 17/100\n",
      "165/165 [==============================] - 0s 2ms/step - loss: 142.1581 - mae: 8.9348 - root_mean_squared_error: 11.9230\n",
      "Epoch 18/100\n",
      "165/165 [==============================] - 0s 3ms/step - loss: 135.0367 - mae: 8.6522 - root_mean_squared_error: 11.6205\n",
      "Epoch 19/100\n",
      "165/165 [==============================] - 0s 2ms/step - loss: 128.5495 - mae: 8.3999 - root_mean_squared_error: 11.3380\n",
      "Epoch 20/100\n",
      "165/165 [==============================] - 0s 2ms/step - loss: 123.2056 - mae: 8.1993 - root_mean_squared_error: 11.0998\n",
      "Epoch 21/100\n",
      "165/165 [==============================] - 0s 2ms/step - loss: 118.6088 - mae: 8.0084 - root_mean_squared_error: 10.8908\n",
      "Epoch 22/100\n",
      "165/165 [==============================] - 0s 2ms/step - loss: 114.5913 - mae: 7.8406 - root_mean_squared_error: 10.7047\n",
      "Epoch 23/100\n",
      "165/165 [==============================] - 0s 2ms/step - loss: 111.0152 - mae: 7.7020 - root_mean_squared_error: 10.5364\n",
      "Epoch 24/100\n",
      "165/165 [==============================] - 0s 3ms/step - loss: 107.7154 - mae: 7.5617 - root_mean_squared_error: 10.3786\n",
      "Epoch 25/100\n",
      "165/165 [==============================] - 0s 2ms/step - loss: 104.8938 - mae: 7.4398 - root_mean_squared_error: 10.2418\n",
      "Epoch 26/100\n",
      "165/165 [==============================] - 0s 2ms/step - loss: 102.2137 - mae: 7.3047 - root_mean_squared_error: 10.1101\n",
      "Epoch 27/100\n",
      "165/165 [==============================] - 0s 2ms/step - loss: 99.8955 - mae: 7.2245 - root_mean_squared_error: 9.9948\n",
      "Epoch 28/100\n",
      "165/165 [==============================] - 0s 2ms/step - loss: 97.5500 - mae: 7.1046 - root_mean_squared_error: 9.8767\n",
      "Epoch 29/100\n",
      "165/165 [==============================] - 0s 2ms/step - loss: 95.5498 - mae: 7.0161 - root_mean_squared_error: 9.7750\n",
      "Epoch 30/100\n",
      "165/165 [==============================] - 0s 2ms/step - loss: 93.5976 - mae: 6.9183 - root_mean_squared_error: 9.6746\n",
      "Epoch 31/100\n",
      "165/165 [==============================] - 0s 2ms/step - loss: 92.0205 - mae: 6.8484 - root_mean_squared_error: 9.5927\n",
      "Epoch 32/100\n",
      "165/165 [==============================] - 0s 2ms/step - loss: 90.5202 - mae: 6.7906 - root_mean_squared_error: 9.5142\n",
      "Epoch 33/100\n",
      "165/165 [==============================] - 0s 2ms/step - loss: 88.9916 - mae: 6.7350 - root_mean_squared_error: 9.4335\n",
      "Epoch 34/100\n",
      "165/165 [==============================] - 0s 2ms/step - loss: 87.7758 - mae: 6.6849 - root_mean_squared_error: 9.3689\n",
      "Epoch 35/100\n",
      "165/165 [==============================] - 0s 2ms/step - loss: 86.2051 - mae: 6.5853 - root_mean_squared_error: 9.2847\n",
      "Epoch 36/100\n",
      "165/165 [==============================] - 0s 2ms/step - loss: 85.2880 - mae: 6.5639 - root_mean_squared_error: 9.2351\n",
      "Epoch 37/100\n",
      "165/165 [==============================] - 0s 2ms/step - loss: 84.1189 - mae: 6.5029 - root_mean_squared_error: 9.1716\n",
      "Epoch 38/100\n",
      "165/165 [==============================] - 0s 2ms/step - loss: 82.7540 - mae: 6.4404 - root_mean_squared_error: 9.0969\n",
      "Epoch 39/100\n",
      "165/165 [==============================] - 0s 2ms/step - loss: 82.0843 - mae: 6.4317 - root_mean_squared_error: 9.0600\n",
      "Epoch 40/100\n",
      "165/165 [==============================] - 0s 2ms/step - loss: 81.1811 - mae: 6.3476 - root_mean_squared_error: 9.0101\n",
      "Epoch 41/100\n",
      "165/165 [==============================] - 0s 2ms/step - loss: 80.3100 - mae: 6.3163 - root_mean_squared_error: 8.9616\n",
      "Epoch 42/100\n",
      "165/165 [==============================] - 0s 2ms/step - loss: 79.2954 - mae: 6.2777 - root_mean_squared_error: 8.9048\n",
      "Epoch 43/100\n",
      "165/165 [==============================] - 0s 2ms/step - loss: 78.4792 - mae: 6.2247 - root_mean_squared_error: 8.8588\n",
      "Epoch 44/100\n",
      "165/165 [==============================] - 0s 2ms/step - loss: 77.6637 - mae: 6.1916 - root_mean_squared_error: 8.8127\n",
      "Epoch 45/100\n",
      "165/165 [==============================] - 0s 2ms/step - loss: 77.0536 - mae: 6.1589 - root_mean_squared_error: 8.7780\n",
      "Epoch 46/100\n",
      "165/165 [==============================] - 0s 2ms/step - loss: 76.3046 - mae: 6.1384 - root_mean_squared_error: 8.7353\n",
      "Epoch 47/100\n",
      "165/165 [==============================] - 0s 2ms/step - loss: 75.6224 - mae: 6.0955 - root_mean_squared_error: 8.6961\n",
      "Epoch 48/100\n",
      "165/165 [==============================] - 0s 2ms/step - loss: 75.0784 - mae: 6.0549 - root_mean_squared_error: 8.6648\n",
      "Epoch 49/100\n",
      "165/165 [==============================] - 0s 2ms/step - loss: 74.5272 - mae: 6.0213 - root_mean_squared_error: 8.6329\n",
      "Epoch 50/100\n",
      "165/165 [==============================] - 0s 2ms/step - loss: 74.1858 - mae: 6.0280 - root_mean_squared_error: 8.6131\n",
      "Epoch 51/100\n",
      "165/165 [==============================] - 0s 2ms/step - loss: 73.5657 - mae: 5.9921 - root_mean_squared_error: 8.5770\n",
      "Epoch 52/100\n",
      "165/165 [==============================] - 0s 2ms/step - loss: 72.9948 - mae: 5.9514 - root_mean_squared_error: 8.5437\n",
      "Epoch 53/100\n",
      "165/165 [==============================] - 0s 2ms/step - loss: 72.5395 - mae: 5.9382 - root_mean_squared_error: 8.5170\n",
      "Epoch 54/100\n",
      "165/165 [==============================] - 0s 2ms/step - loss: 72.0395 - mae: 5.9098 - root_mean_squared_error: 8.4876\n",
      "Epoch 55/100\n",
      "165/165 [==============================] - 0s 3ms/step - loss: 71.5710 - mae: 5.8757 - root_mean_squared_error: 8.4600\n",
      "Epoch 56/100\n",
      "165/165 [==============================] - 0s 2ms/step - loss: 71.4593 - mae: 5.9016 - root_mean_squared_error: 8.4534\n",
      "Epoch 57/100\n",
      "165/165 [==============================] - 0s 2ms/step - loss: 71.0022 - mae: 5.8563 - root_mean_squared_error: 8.4263\n",
      "Epoch 58/100\n",
      "165/165 [==============================] - 0s 2ms/step - loss: 70.5088 - mae: 5.8320 - root_mean_squared_error: 8.3970\n",
      "Epoch 59/100\n",
      "165/165 [==============================] - 0s 2ms/step - loss: 70.3120 - mae: 5.8154 - root_mean_squared_error: 8.3852\n",
      "Epoch 60/100\n",
      "165/165 [==============================] - 0s 2ms/step - loss: 69.8178 - mae: 5.8117 - root_mean_squared_error: 8.3557\n",
      "Epoch 61/100\n",
      "165/165 [==============================] - 0s 2ms/step - loss: 69.8051 - mae: 5.7901 - root_mean_squared_error: 8.3549\n",
      "Epoch 62/100\n",
      "165/165 [==============================] - 0s 2ms/step - loss: 69.1202 - mae: 5.7769 - root_mean_squared_error: 8.3139\n",
      "Epoch 63/100\n",
      "165/165 [==============================] - 0s 2ms/step - loss: 68.8883 - mae: 5.7692 - root_mean_squared_error: 8.2999\n",
      "Epoch 64/100\n",
      "165/165 [==============================] - 0s 2ms/step - loss: 68.4921 - mae: 5.7137 - root_mean_squared_error: 8.2760\n",
      "Epoch 65/100\n",
      "165/165 [==============================] - 0s 2ms/step - loss: 68.3171 - mae: 5.7352 - root_mean_squared_error: 8.2654\n",
      "Epoch 66/100\n",
      "165/165 [==============================] - 0s 2ms/step - loss: 67.9007 - mae: 5.6979 - root_mean_squared_error: 8.2402\n",
      "Epoch 67/100\n",
      "165/165 [==============================] - 0s 2ms/step - loss: 67.8109 - mae: 5.7139 - root_mean_squared_error: 8.2347\n",
      "Epoch 68/100\n",
      "165/165 [==============================] - 0s 2ms/step - loss: 67.5308 - mae: 5.6978 - root_mean_squared_error: 8.2177\n",
      "Epoch 69/100\n",
      "165/165 [==============================] - 0s 2ms/step - loss: 67.0879 - mae: 5.6700 - root_mean_squared_error: 8.1907\n",
      "Epoch 70/100\n",
      "165/165 [==============================] - 0s 2ms/step - loss: 66.8374 - mae: 5.6968 - root_mean_squared_error: 8.1754\n",
      "Epoch 71/100\n",
      "165/165 [==============================] - 0s 2ms/step - loss: 66.7786 - mae: 5.6415 - root_mean_squared_error: 8.1718\n",
      "Epoch 72/100\n",
      "165/165 [==============================] - 0s 2ms/step - loss: 66.3829 - mae: 5.6408 - root_mean_squared_error: 8.1476\n",
      "Epoch 73/100\n",
      "165/165 [==============================] - 0s 2ms/step - loss: 66.1684 - mae: 5.6123 - root_mean_squared_error: 8.1344\n",
      "Epoch 74/100\n",
      "165/165 [==============================] - 0s 2ms/step - loss: 66.0066 - mae: 5.6227 - root_mean_squared_error: 8.1244\n",
      "Epoch 75/100\n",
      "165/165 [==============================] - 0s 2ms/step - loss: 65.7613 - mae: 5.6017 - root_mean_squared_error: 8.1093\n",
      "Epoch 76/100\n",
      "165/165 [==============================] - 0s 2ms/step - loss: 65.6793 - mae: 5.5919 - root_mean_squared_error: 8.1043\n",
      "Epoch 77/100\n",
      "165/165 [==============================] - 0s 2ms/step - loss: 65.3804 - mae: 5.6149 - root_mean_squared_error: 8.0858\n",
      "Epoch 78/100\n",
      "165/165 [==============================] - 0s 2ms/step - loss: 65.0375 - mae: 5.5729 - root_mean_squared_error: 8.0646\n",
      "Epoch 79/100\n",
      "165/165 [==============================] - 0s 2ms/step - loss: 64.9658 - mae: 5.5671 - root_mean_squared_error: 8.0601\n",
      "Epoch 80/100\n",
      "165/165 [==============================] - 0s 2ms/step - loss: 64.6742 - mae: 5.5614 - root_mean_squared_error: 8.0420\n",
      "Epoch 81/100\n",
      "165/165 [==============================] - 0s 2ms/step - loss: 64.5013 - mae: 5.5446 - root_mean_squared_error: 8.0313\n",
      "Epoch 82/100\n",
      "165/165 [==============================] - 0s 2ms/step - loss: 64.2397 - mae: 5.5365 - root_mean_squared_error: 8.0150\n",
      "Epoch 83/100\n",
      "165/165 [==============================] - 0s 2ms/step - loss: 64.0985 - mae: 5.5182 - root_mean_squared_error: 8.0062\n",
      "Epoch 84/100\n",
      "165/165 [==============================] - 1s 3ms/step - loss: 64.0427 - mae: 5.5356 - root_mean_squared_error: 8.0027\n",
      "Epoch 85/100\n",
      "165/165 [==============================] - 0s 2ms/step - loss: 63.7636 - mae: 5.5274 - root_mean_squared_error: 7.9852\n",
      "Epoch 86/100\n",
      "165/165 [==============================] - 0s 2ms/step - loss: 63.6363 - mae: 5.5056 - root_mean_squared_error: 7.9772\n",
      "Epoch 87/100\n",
      "165/165 [==============================] - 0s 2ms/step - loss: 63.5718 - mae: 5.5214 - root_mean_squared_error: 7.9732\n",
      "Epoch 88/100\n",
      "165/165 [==============================] - 0s 2ms/step - loss: 63.2660 - mae: 5.4821 - root_mean_squared_error: 7.9540\n",
      "Epoch 89/100\n",
      "165/165 [==============================] - 0s 2ms/step - loss: 63.3144 - mae: 5.5086 - root_mean_squared_error: 7.9570\n",
      "Epoch 90/100\n",
      "165/165 [==============================] - 0s 2ms/step - loss: 62.9298 - mae: 5.4662 - root_mean_squared_error: 7.9328\n",
      "Epoch 91/100\n",
      "165/165 [==============================] - 0s 2ms/step - loss: 62.9932 - mae: 5.5256 - root_mean_squared_error: 7.9368\n",
      "Epoch 92/100\n",
      "165/165 [==============================] - 0s 2ms/step - loss: 62.6689 - mae: 5.4596 - root_mean_squared_error: 7.9164\n",
      "Epoch 93/100\n",
      "165/165 [==============================] - 0s 2ms/step - loss: 62.5792 - mae: 5.4675 - root_mean_squared_error: 7.9107\n",
      "Epoch 94/100\n",
      "165/165 [==============================] - 0s 2ms/step - loss: 62.3481 - mae: 5.4554 - root_mean_squared_error: 7.8961\n",
      "Epoch 95/100\n",
      "165/165 [==============================] - 0s 2ms/step - loss: 62.2126 - mae: 5.4556 - root_mean_squared_error: 7.8875\n",
      "Epoch 96/100\n",
      "165/165 [==============================] - 0s 2ms/step - loss: 62.1979 - mae: 5.4429 - root_mean_squared_error: 7.8866\n",
      "Epoch 97/100\n",
      "165/165 [==============================] - 0s 2ms/step - loss: 61.9429 - mae: 5.4402 - root_mean_squared_error: 7.8704\n",
      "Epoch 98/100\n",
      "165/165 [==============================] - 0s 2ms/step - loss: 61.7623 - mae: 5.4334 - root_mean_squared_error: 7.8589\n",
      "Epoch 99/100\n",
      "165/165 [==============================] - 0s 2ms/step - loss: 61.9186 - mae: 5.4406 - root_mean_squared_error: 7.8688\n",
      "Epoch 100/100\n",
      "165/165 [==============================] - 0s 2ms/step - loss: 61.6034 - mae: 5.4052 - root_mean_squared_error: 7.8488\n"
     ]
    },
    {
     "data": {
      "text/plain": [
       "<keras.callbacks.History at 0x14a22e03130>"
      ]
     },
     "execution_count": 139,
     "metadata": {},
     "output_type": "execute_result"
    }
   ],
   "source": [
    "# Train the model\n",
    "model.fit(X_train, y_train, epochs=100, batch_size=10)\n"
   ]
  },
  {
   "cell_type": "code",
   "execution_count": 2,
   "id": "6bd0bb4c",
   "metadata": {},
   "outputs": [],
   "source": [
    "# Step 1: Importing necessary libraries\n",
    "import pandas as pd\n",
    "from sklearn.model_selection import train_test_split\n",
    "\n",
    "# Step 2: Load the dataset\n",
    "data = pd.read_csv(\"Final_Training_Data.csv\")\n",
    "\n",
    "# Step 3: Shuffle and split the data into training and testing subsets (80-20 split)\n",
    "train, test = train_test_split(data, test_size=0.2, random_state=42)\n",
    "\n",
    "# Step 4: Save the training data to 'train.csv' and testing data to 'test.csv'\n",
    "train.to_csv(\"train.csv\", index=False)\n",
    "test.to_csv(\"test.csv\", index=False)\n"
   ]
  },
  {
   "cell_type": "code",
   "execution_count": 2,
   "id": "8f5032ff",
   "metadata": {},
   "outputs": [],
   "source": [
    "import pandas as pd\n",
    "test=pd.read_csv(\"test.csv\")"
   ]
  },
  {
   "cell_type": "code",
   "execution_count": 3,
   "id": "6ab26bf9",
   "metadata": {},
   "outputs": [
    {
     "name": "stdout",
     "output_type": "stream",
     "text": [
      "(412, 23)\n"
     ]
    },
    {
     "data": {
      "text/plain": [
       "Index(['age', 'gender', 'residence', 'competative_exams', 'access_to_internet',\n",
       "       'study_hours_per_day', 'has_scholarship', 'extracurricular_activities',\n",
       "       'fam_fin_status', 'health', 'location', 'f_edu', 'm_edu', 'f_job',\n",
       "       'm_job', 'alcoholic', 'additional_tuition', 'fam_size', 'fam_relation',\n",
       "       'prev_percent_1', 'prev_percent_2', 'prev_percent_3',\n",
       "       'TARGET_PREDICTION_PERCENT'],\n",
       "      dtype='object')"
      ]
     },
     "execution_count": 3,
     "metadata": {},
     "output_type": "execute_result"
    }
   ],
   "source": [
    "print(test.shape)\n",
    "test.columns"
   ]
  },
  {
   "cell_type": "code",
   "execution_count": 4,
   "id": "893f17e5",
   "metadata": {},
   "outputs": [
    {
     "name": "stdout",
     "output_type": "stream",
     "text": [
      "(412, 26)\n"
     ]
    },
    {
     "data": {
      "text/plain": [
       "Index(['age', 'competative_exams', 'access_to_internet', 'study_hours_per_day',\n",
       "       'has_scholarship', 'extracurricular_activities', 'fam_fin_status',\n",
       "       'health', 'f_edu', 'm_edu', 'f_job', 'm_job', 'alcoholic',\n",
       "       'additional_tuition', 'fam_size', 'fam_relation', 'prev_percent_1',\n",
       "       'prev_percent_2', 'prev_percent_3', 'TARGET_PREDICTION_PERCENT',\n",
       "       'gender_F', 'gender_M', 'residence_D', 'residence_H', 'location_R',\n",
       "       'location_U'],\n",
       "      dtype='object')"
      ]
     },
     "execution_count": 4,
     "metadata": {},
     "output_type": "execute_result"
    }
   ],
   "source": [
    "test_encoded = pd.get_dummies(test,columns=[\"gender\",\"residence\",\"location\"])\n",
    "print(test_encoded.shape)\n",
    "test_encoded.columns"
   ]
  },
  {
   "cell_type": "code",
   "execution_count": 5,
   "id": "57165b57",
   "metadata": {},
   "outputs": [],
   "source": [
    "# Features are all columns except the target\n",
    "test_encoded_x = test_encoded.drop(\"TARGET_PREDICTION_PERCENT\", axis=1)\n",
    "\n",
    "# Target is the specific output label\n",
    "test_encoded_y = test_encoded[\"TARGET_PREDICTION_PERCENT\"]\n"
   ]
  },
  {
   "cell_type": "code",
   "execution_count": 9,
   "id": "6d13eb4b",
   "metadata": {},
   "outputs": [],
   "source": [
    "test_transform_x=scaler.fit_transform(test_encoded_x)"
   ]
  },
  {
   "cell_type": "code",
   "execution_count": 10,
   "id": "84e57561",
   "metadata": {},
   "outputs": [
    {
     "data": {
      "text/plain": [
       "array([[ 0.46366033, -0.91165296, -2.02148949, ..., -0.94795438,\n",
       "         1.17537351, -1.17537351],\n",
       "       [ 0.77630854,  1.09690864, -2.02148949, ...,  1.05490308,\n",
       "        -0.85079338,  0.85079338],\n",
       "       [ 1.08895675, -0.91165296, -2.02148949, ..., -0.94795438,\n",
       "         1.17537351, -1.17537351],\n",
       "       ...,\n",
       "       [-0.16163609, -0.91165296,  0.49468474, ...,  1.05490308,\n",
       "        -0.85079338,  0.85079338],\n",
       "       [-0.16163609, -0.91165296,  0.49468474, ..., -0.94795438,\n",
       "        -0.85079338,  0.85079338],\n",
       "       [ 0.15101212,  1.09690864,  0.49468474, ...,  1.05490308,\n",
       "        -0.85079338,  0.85079338]])"
      ]
     },
     "execution_count": 10,
     "metadata": {},
     "output_type": "execute_result"
    }
   ],
   "source": [
    "test_transform_x"
   ]
  }
 ],
 "metadata": {
  "jupytext": {
   "cell_metadata_filter": "-all",
   "notebook_metadata_filter": "-all"
  },
  "kernelspec": {
   "display_name": "Python 3",
   "language": "python",
   "name": "python3"
  },
  "language_info": {
   "codemirror_mode": {
    "name": "ipython",
    "version": 3
   },
   "file_extension": ".py",
   "mimetype": "text/x-python",
   "name": "python",
   "nbconvert_exporter": "python",
   "pygments_lexer": "ipython3",
   "version": "3.10.0"
  }
 },
 "nbformat": 4,
 "nbformat_minor": 5
}
