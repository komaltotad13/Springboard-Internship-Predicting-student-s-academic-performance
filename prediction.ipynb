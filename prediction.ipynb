{
 "cells": [
  {
   "cell_type": "code",
   "execution_count": 81,
   "metadata": {},
   "outputs": [],
   "source": [
    "import pandas as pd"
   ]
  },
  {
   "cell_type": "code",
   "execution_count": 82,
   "id": "0d43e4bf",
   "metadata": {},
   "outputs": [
    {
     "name": "stdout",
     "output_type": "stream",
     "text": [
      "      age gender residence  competative_exams  access_to_internet  \\\n",
      "0      11      M         H                  0                   0   \n",
      "1      14      F         D                  0                   1   \n",
      "2      21      M         H                  1                   1   \n",
      "3      24      F         H                  1                   0   \n",
      "4      12      F         H                  0                   0   \n",
      "...   ...    ...       ...                ...                 ...   \n",
      "2054   18      F         H                  1                   1   \n",
      "2055   20      M         H                  0                   0   \n",
      "2056   26      F         H                  1                   0   \n",
      "2057   27      M         D                  1                   0   \n",
      "2058   18      F         D                  1                   0   \n",
      "\n",
      "      study_hours_per_day  has_scholarship  extracurricular_activities  \\\n",
      "0                       4                0                           1   \n",
      "1                       1                1                           0   \n",
      "2                       6                0                           1   \n",
      "3                       7                0                           0   \n",
      "4                       5                1                           0   \n",
      "...                   ...              ...                         ...   \n",
      "2054                   10                0                           0   \n",
      "2055                    6                0                           0   \n",
      "2056                    4                0                           0   \n",
      "2057                    6                1                           1   \n",
      "2058                   10                0                           0   \n",
      "\n",
      "      fam_fin_status  health  ... f_job  m_job  alcoholic  additional_tuition  \\\n",
      "0                  3       5  ...     0      0          0                   1   \n",
      "1                  4       2  ...     1      0          0                   0   \n",
      "2                  5       3  ...     1      1          1                   0   \n",
      "3                  4       2  ...     1      1          1                   1   \n",
      "4                  3       1  ...     1      0          0                   1   \n",
      "...              ...     ...  ...   ...    ...        ...                 ...   \n",
      "2054               4       5  ...     1      0          0                   1   \n",
      "2055               2       5  ...     1      1          3                   0   \n",
      "2056               1       4  ...     1      0          1                   1   \n",
      "2057               3       5  ...     1      0          4                   1   \n",
      "2058               2       4  ...     1      1          1                   0   \n",
      "\n",
      "      fam_size  fam_relation  prev_percent_1  prev_percent_2  prev_percent_3  \\\n",
      "0           14             4              73              73              67   \n",
      "1            1             2              96              87              80   \n",
      "2           15             2              81              78              93   \n",
      "3           15             4              77              71              88   \n",
      "4           13             3              66              78              85   \n",
      "...        ...           ...             ...             ...             ...   \n",
      "2054         4             1              71              80              61   \n",
      "2055         4             1              68              61              81   \n",
      "2056         3             3              72              55              86   \n",
      "2057         5             3              53              58              83   \n",
      "2058         4             5              58              85              82   \n",
      "\n",
      "      TARGET_PREDICTION_PERCENT  \n",
      "0                            71  \n",
      "1                            87  \n",
      "2                            84  \n",
      "3                            78  \n",
      "4                            76  \n",
      "...                         ...  \n",
      "2054                         74  \n",
      "2055                         77  \n",
      "2056                         68  \n",
      "2057                         79  \n",
      "2058                         64  \n",
      "\n",
      "[2059 rows x 23 columns]\n"
     ]
    }
   ],
   "source": [
    "file_path = \"Final_Training_Data.csv\"  \n",
    "df = pd.read_csv(file_path)\n",
    "print(df)"
   ]
  },
  {
   "cell_type": "code",
   "execution_count": 83,
   "id": "41474676",
   "metadata": {},
   "outputs": [],
   "source": [
    "df_encoded = pd.get_dummies(df,columns=[\"gender\",\"residence\",\"location\"])"
   ]
  },
  {
   "cell_type": "code",
   "execution_count": 84,
   "id": "809117b5",
   "metadata": {},
   "outputs": [
    {
     "data": {
      "text/plain": [
       "(2059, 26)"
      ]
     },
     "execution_count": 84,
     "metadata": {},
     "output_type": "execute_result"
    }
   ],
   "source": [
    "df_encoded.shape"
   ]
  },
  {
   "cell_type": "code",
   "execution_count": 85,
   "id": "752ae6c5",
   "metadata": {},
   "outputs": [
    {
     "data": {
      "text/plain": [
       "Index(['age', 'competative_exams', 'access_to_internet', 'study_hours_per_day',\n",
       "       'has_scholarship', 'extracurricular_activities', 'fam_fin_status',\n",
       "       'health', 'f_edu', 'm_edu', 'f_job', 'm_job', 'alcoholic',\n",
       "       'additional_tuition', 'fam_size', 'fam_relation', 'prev_percent_1',\n",
       "       'prev_percent_2', 'prev_percent_3', 'TARGET_PREDICTION_PERCENT',\n",
       "       'gender_F', 'gender_M', 'residence_D', 'residence_H', 'location_R',\n",
       "       'location_U'],\n",
       "      dtype='object')"
      ]
     },
     "execution_count": 85,
     "metadata": {},
     "output_type": "execute_result"
    }
   ],
   "source": [
    "df_encoded.columns"
   ]
  },
  {
   "cell_type": "code",
   "execution_count": 86,
   "id": "447ede69",
   "metadata": {},
   "outputs": [],
   "source": [
    "# Features are all columns except the target\n",
    "X = df_encoded.drop(\"TARGET_PREDICTION_PERCENT\", axis=1)\n",
    "\n",
    "# Target is the specific output label\n",
    "y = df_encoded[\"TARGET_PREDICTION_PERCENT\"]\n"
   ]
  },
  {
   "cell_type": "code",
   "execution_count": 87,
   "id": "fcea82af",
   "metadata": {},
   "outputs": [
    {
     "name": "stdout",
     "output_type": "stream",
     "text": [
      "Features:\n",
      "   age  competative_exams  access_to_internet  study_hours_per_day  \\\n",
      "0   11                  0                   0                    4   \n",
      "1   14                  0                   1                    1   \n",
      "2   21                  1                   1                    6   \n",
      "3   24                  1                   0                    7   \n",
      "4   12                  0                   0                    5   \n",
      "\n",
      "   has_scholarship  extracurricular_activities  fam_fin_status  health  f_edu  \\\n",
      "0                0                           1               3       5      4   \n",
      "1                1                           0               4       2      5   \n",
      "2                0                           1               5       3      3   \n",
      "3                0                           0               4       2      2   \n",
      "4                1                           0               3       1      3   \n",
      "\n",
      "   m_edu  ...  fam_relation  prev_percent_1  prev_percent_2  prev_percent_3  \\\n",
      "0      5  ...             4              73              73              67   \n",
      "1      0  ...             2              96              87              80   \n",
      "2      4  ...             2              81              78              93   \n",
      "3      1  ...             4              77              71              88   \n",
      "4      3  ...             3              66              78              85   \n",
      "\n",
      "   gender_F  gender_M  residence_D  residence_H  location_R  location_U  \n",
      "0     False      True        False         True        True       False  \n",
      "1      True     False         True        False       False        True  \n",
      "2     False      True        False         True       False        True  \n",
      "3      True     False        False         True       False        True  \n",
      "4      True     False        False         True        True       False  \n",
      "\n",
      "[5 rows x 25 columns]\n",
      "\n",
      "Target:\n",
      "0    71\n",
      "1    87\n",
      "2    84\n",
      "3    78\n",
      "4    76\n",
      "Name: TARGET_PREDICTION_PERCENT, dtype: int64\n"
     ]
    }
   ],
   "source": [
    "# Display the first few rows of the features and target\n",
    "print(\"Features:\")\n",
    "print(X.head())\n",
    "\n",
    "print(\"\\nTarget:\")\n",
    "print(y.head())\n"
   ]
  },
  {
   "cell_type": "code",
   "execution_count": 88,
   "id": "d8023cc6",
   "metadata": {},
   "outputs": [
    {
     "name": "stdout",
     "output_type": "stream",
     "text": [
      "Training Features shape: (1647, 25)\n",
      "Testing Features shape: (412, 25)\n",
      "Training Target shape: (1647,)\n",
      "Testing Target shape: (412,)\n"
     ]
    }
   ],
   "source": [
    "import pandas as pd\n",
    "from sklearn.model_selection import train_test_split\n",
    "# Split the data into training and testing sets\n",
    "# 80% for training and 20% for testing\n",
    "X_train, X_test, y_train, y_test = train_test_split(X, y, test_size=0.2, random_state=42)\n",
    "\n",
    "# Verify the size of the splits\n",
    "print(\"Training Features shape:\", X_train.shape)\n",
    "print(\"Testing Features shape:\", X_test.shape)\n",
    "print(\"Training Target shape:\", y_train.shape)\n",
    "print(\"Testing Target shape:\", y_test.shape)"
   ]
  },
  {
   "cell_type": "code",
   "execution_count": 89,
   "id": "8a7662aa",
   "metadata": {},
   "outputs": [],
   "source": [
    "from sklearn.preprocessing import StandardScaler\n",
    "scaler=StandardScaler()"
   ]
  },
  {
   "cell_type": "code",
   "execution_count": 90,
   "id": "7946aeac",
   "metadata": {},
   "outputs": [],
   "source": [
    "df_scaled = scaler.fit_transform(X_train)\n",
    "X_test=scaler.transform(X_test)"
   ]
  },
  {
   "cell_type": "code",
   "execution_count": 91,
   "id": "b576c2d9",
   "metadata": {},
   "outputs": [],
   "source": [
    "df_scaled\n",
    "X_train=df_scaled"
   ]
  },
  {
   "cell_type": "code",
   "execution_count": 126,
   "id": "d1cf871c",
   "metadata": {},
   "outputs": [],
   "source": [
    "import tensorflow as tf\n",
    "import pandas as pd\n",
    "import numpy as np\n",
    "from sklearn.model_selection import train_test_split\n",
    "from sklearn.preprocessing import StandardScaler\n",
    "from sklearn.metrics import mean_absolute_error, mean_squared_error"
   ]
  },
  {
   "cell_type": "code",
   "execution_count": 127,
   "id": "0163c1f2",
   "metadata": {},
   "outputs": [],
   "source": [
    "# Build the model\n",
    "model = tf.keras.Sequential([\n",
    "    tf.keras.layers.Dense(25, activation='relu', input_shape=(X_train.shape[1],)),  # Input layer with 25 units and ReLU activation\n",
    "    tf.keras.layers.Dense(1)  # Output layer with 1 unit (for regression)\n",
    "])\n",
    "\n",
    "# Compile the model\n",
    "model.compile(\n",
    "    optimizer='adam',\n",
    "    loss='mean_squared_error',\n",
    "    metrics=['mae', tf.keras.metrics.RootMeanSquaredError()]  \n",
    ")"
   ]
  },
  {
   "cell_type": "code",
   "execution_count": 130,
   "id": "773e9f6f",
   "metadata": {},
   "outputs": [
    {
     "name": "stdout",
     "output_type": "stream",
     "text": [
      "Epoch 1/50\n",
      "26/26 [==============================] - 0s 2ms/step - loss: 62.6184 - mae: 5.4811 - root_mean_squared_error: 7.9132\n",
      "Epoch 2/50\n",
      "26/26 [==============================] - 0s 2ms/step - loss: 62.5423 - mae: 5.4729 - root_mean_squared_error: 7.9084\n",
      "Epoch 3/50\n",
      "26/26 [==============================] - 0s 2ms/step - loss: 62.5314 - mae: 5.4703 - root_mean_squared_error: 7.9077\n",
      "Epoch 4/50\n",
      "26/26 [==============================] - 0s 2ms/step - loss: 62.4665 - mae: 5.4686 - root_mean_squared_error: 7.9036\n",
      "Epoch 5/50\n",
      "26/26 [==============================] - 0s 2ms/step - loss: 62.5402 - mae: 5.4726 - root_mean_squared_error: 7.9082\n",
      "Epoch 6/50\n",
      "26/26 [==============================] - 0s 1ms/step - loss: 62.3597 - mae: 5.4692 - root_mean_squared_error: 7.8968\n",
      "Epoch 7/50\n",
      "26/26 [==============================] - 0s 2ms/step - loss: 62.3465 - mae: 5.4570 - root_mean_squared_error: 7.8960\n",
      "Epoch 8/50\n",
      "26/26 [==============================] - 0s 1ms/step - loss: 62.3979 - mae: 5.4638 - root_mean_squared_error: 7.8992\n",
      "Epoch 9/50\n",
      "26/26 [==============================] - 0s 2ms/step - loss: 62.1284 - mae: 5.4449 - root_mean_squared_error: 7.8822\n",
      "Epoch 10/50\n",
      "26/26 [==============================] - 0s 2ms/step - loss: 62.0759 - mae: 5.4441 - root_mean_squared_error: 7.8788\n",
      "Epoch 11/50\n",
      "26/26 [==============================] - 0s 2ms/step - loss: 62.0585 - mae: 5.4502 - root_mean_squared_error: 7.8777\n",
      "Epoch 12/50\n",
      "26/26 [==============================] - 0s 2ms/step - loss: 62.0031 - mae: 5.4393 - root_mean_squared_error: 7.8742\n",
      "Epoch 13/50\n",
      "26/26 [==============================] - 0s 1ms/step - loss: 61.9045 - mae: 5.4409 - root_mean_squared_error: 7.8679\n",
      "Epoch 14/50\n",
      "26/26 [==============================] - 0s 1ms/step - loss: 61.9557 - mae: 5.4473 - root_mean_squared_error: 7.8712\n",
      "Epoch 15/50\n",
      "26/26 [==============================] - 0s 2ms/step - loss: 61.8845 - mae: 5.4462 - root_mean_squared_error: 7.8667\n",
      "Epoch 16/50\n",
      "26/26 [==============================] - 0s 2ms/step - loss: 61.7551 - mae: 5.4203 - root_mean_squared_error: 7.8584\n",
      "Epoch 17/50\n",
      "26/26 [==============================] - 0s 2ms/step - loss: 61.7055 - mae: 5.4264 - root_mean_squared_error: 7.8553\n",
      "Epoch 18/50\n",
      "26/26 [==============================] - 0s 2ms/step - loss: 61.6892 - mae: 5.4265 - root_mean_squared_error: 7.8542\n",
      "Epoch 19/50\n",
      "26/26 [==============================] - 0s 1ms/step - loss: 61.5973 - mae: 5.4316 - root_mean_squared_error: 7.8484\n",
      "Epoch 20/50\n",
      "26/26 [==============================] - 0s 1ms/step - loss: 61.5811 - mae: 5.4185 - root_mean_squared_error: 7.8474\n",
      "Epoch 21/50\n",
      "26/26 [==============================] - 0s 2ms/step - loss: 61.5235 - mae: 5.4232 - root_mean_squared_error: 7.8437\n",
      "Epoch 22/50\n",
      "26/26 [==============================] - 0s 2ms/step - loss: 61.4051 - mae: 5.4116 - root_mean_squared_error: 7.8361\n",
      "Epoch 23/50\n",
      "26/26 [==============================] - 0s 2ms/step - loss: 61.3969 - mae: 5.4093 - root_mean_squared_error: 7.8356\n",
      "Epoch 24/50\n",
      "26/26 [==============================] - 0s 2ms/step - loss: 61.4286 - mae: 5.4222 - root_mean_squared_error: 7.8376\n",
      "Epoch 25/50\n",
      "26/26 [==============================] - 0s 1ms/step - loss: 61.2784 - mae: 5.4156 - root_mean_squared_error: 7.8281\n",
      "Epoch 26/50\n",
      "26/26 [==============================] - 0s 1ms/step - loss: 61.1810 - mae: 5.4026 - root_mean_squared_error: 7.8218\n",
      "Epoch 27/50\n",
      "26/26 [==============================] - 0s 2ms/step - loss: 61.1521 - mae: 5.3975 - root_mean_squared_error: 7.8200\n",
      "Epoch 28/50\n",
      "26/26 [==============================] - 0s 1ms/step - loss: 61.0087 - mae: 5.3992 - root_mean_squared_error: 7.8108\n",
      "Epoch 29/50\n",
      "26/26 [==============================] - 0s 1ms/step - loss: 60.9982 - mae: 5.3935 - root_mean_squared_error: 7.8101\n",
      "Epoch 30/50\n",
      "26/26 [==============================] - 0s 1ms/step - loss: 61.0088 - mae: 5.4062 - root_mean_squared_error: 7.8108\n",
      "Epoch 31/50\n",
      "26/26 [==============================] - 0s 1ms/step - loss: 60.8566 - mae: 5.3890 - root_mean_squared_error: 7.8011\n",
      "Epoch 32/50\n",
      "26/26 [==============================] - 0s 2ms/step - loss: 60.8289 - mae: 5.3775 - root_mean_squared_error: 7.7993\n",
      "Epoch 33/50\n",
      "26/26 [==============================] - 0s 2ms/step - loss: 60.8113 - mae: 5.3875 - root_mean_squared_error: 7.7982\n",
      "Epoch 34/50\n",
      "26/26 [==============================] - 0s 1ms/step - loss: 60.8336 - mae: 5.3863 - root_mean_squared_error: 7.7996\n",
      "Epoch 35/50\n",
      "26/26 [==============================] - 0s 1ms/step - loss: 60.6756 - mae: 5.3838 - root_mean_squared_error: 7.7895\n",
      "Epoch 36/50\n",
      "26/26 [==============================] - 0s 1ms/step - loss: 60.5576 - mae: 5.3805 - root_mean_squared_error: 7.7819\n",
      "Epoch 37/50\n",
      "26/26 [==============================] - 0s 2ms/step - loss: 60.6026 - mae: 5.3766 - root_mean_squared_error: 7.7848\n",
      "Epoch 38/50\n",
      "26/26 [==============================] - 0s 1ms/step - loss: 60.4534 - mae: 5.3686 - root_mean_squared_error: 7.7752\n",
      "Epoch 39/50\n",
      "26/26 [==============================] - 0s 3ms/step - loss: 60.4063 - mae: 5.3716 - root_mean_squared_error: 7.7721\n",
      "Epoch 40/50\n",
      "26/26 [==============================] - 0s 2ms/step - loss: 60.3850 - mae: 5.3706 - root_mean_squared_error: 7.7708\n",
      "Epoch 41/50\n",
      "26/26 [==============================] - 0s 2ms/step - loss: 60.3430 - mae: 5.3673 - root_mean_squared_error: 7.7681\n",
      "Epoch 42/50\n",
      "26/26 [==============================] - 0s 1ms/step - loss: 60.2840 - mae: 5.3543 - root_mean_squared_error: 7.7643\n",
      "Epoch 43/50\n",
      "26/26 [==============================] - 0s 2ms/step - loss: 60.1909 - mae: 5.3662 - root_mean_squared_error: 7.7583\n",
      "Epoch 44/50\n",
      "26/26 [==============================] - 0s 1ms/step - loss: 60.2246 - mae: 5.3694 - root_mean_squared_error: 7.7605\n",
      "Epoch 45/50\n",
      "26/26 [==============================] - 0s 1ms/step - loss: 60.1557 - mae: 5.3576 - root_mean_squared_error: 7.7560\n",
      "Epoch 46/50\n",
      "26/26 [==============================] - 0s 2ms/step - loss: 60.0300 - mae: 5.3477 - root_mean_squared_error: 7.7479\n",
      "Epoch 47/50\n",
      "26/26 [==============================] - 0s 2ms/step - loss: 60.0540 - mae: 5.3554 - root_mean_squared_error: 7.7494\n",
      "Epoch 48/50\n",
      "26/26 [==============================] - 0s 2ms/step - loss: 59.9811 - mae: 5.3493 - root_mean_squared_error: 7.7447\n",
      "Epoch 49/50\n",
      "26/26 [==============================] - 0s 2ms/step - loss: 59.9971 - mae: 5.3519 - root_mean_squared_error: 7.7458\n",
      "Epoch 50/50\n",
      "26/26 [==============================] - 0s 2ms/step - loss: 59.9366 - mae: 5.3476 - root_mean_squared_error: 7.7419\n"
     ]
    },
    {
     "data": {
      "text/plain": [
       "<keras.callbacks.History at 0x1499a33fac0>"
      ]
     },
     "execution_count": 130,
     "metadata": {},
     "output_type": "execute_result"
    }
   ],
   "source": [
    "# Train the model\n",
    "model.fit(X_train, y_train, epochs=50, batch_size=64)\n"
   ]
  }
 ],
 "metadata": {
  "jupytext": {
   "cell_metadata_filter": "-all",
   "notebook_metadata_filter": "-all"
  },
  "kernelspec": {
   "display_name": "Python 3",
   "language": "python",
   "name": "python3"
  },
  "language_info": {
   "codemirror_mode": {
    "name": "ipython",
    "version": 3
   },
   "file_extension": ".py",
   "mimetype": "text/x-python",
   "name": "python",
   "nbconvert_exporter": "python",
   "pygments_lexer": "ipython3",
   "version": "3.10.0"
  }
 },
 "nbformat": 4,
 "nbformat_minor": 5
}
