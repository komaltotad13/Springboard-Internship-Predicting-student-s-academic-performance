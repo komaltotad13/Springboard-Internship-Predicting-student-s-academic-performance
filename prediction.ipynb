{
 "cells": [
  {
   "cell_type": "code",
   "execution_count": 1,
   "metadata": {},
   "outputs": [],
   "source": [
    "import pandas as pd"
   ]
  },
  {
   "cell_type": "code",
   "execution_count": 5,
   "id": "ef78bfa6",
   "metadata": {},
   "outputs": [
    {
     "name": "stdout",
     "output_type": "stream",
     "text": [
      "      age gender residence  competative_exams  access_to_internet  \\\n",
      "0      11      M         H                  0                   0   \n",
      "1      14      F         D                  0                   1   \n",
      "2      21      M         H                  1                   1   \n",
      "3      24      F         H                  1                   0   \n",
      "4      12      F         H                  0                   0   \n",
      "...   ...    ...       ...                ...                 ...   \n",
      "2054   18      F         H                  1                   1   \n",
      "2055   20      M         H                  0                   0   \n",
      "2056   26      F         H                  1                   0   \n",
      "2057   27      M         D                  1                   0   \n",
      "2058   18      F         D                  1                   0   \n",
      "\n",
      "      study_hours_per_day  has_scholarship  extracurricular_activities  \\\n",
      "0                       4                0                           1   \n",
      "1                       1                1                           0   \n",
      "2                       6                0                           1   \n",
      "3                       7                0                           0   \n",
      "4                       5                1                           0   \n",
      "...                   ...              ...                         ...   \n",
      "2054                   10                0                           0   \n",
      "2055                    6                0                           0   \n",
      "2056                    4                0                           0   \n",
      "2057                    6                1                           1   \n",
      "2058                   10                0                           0   \n",
      "\n",
      "      fam_fin_status  health  ... f_job  m_job  alcoholic  additional_tuition  \\\n",
      "0                  3       5  ...     0      0          0                   1   \n",
      "1                  4       2  ...     1      0          0                   0   \n",
      "2                  5       3  ...     1      1          1                   0   \n",
      "3                  4       2  ...     1      1          1                   1   \n",
      "4                  3       1  ...     1      0          0                   1   \n",
      "...              ...     ...  ...   ...    ...        ...                 ...   \n",
      "2054               4       5  ...     1      0          0                   1   \n",
      "2055               2       5  ...     1      1          3                   0   \n",
      "2056               1       4  ...     1      0          1                   1   \n",
      "2057               3       5  ...     1      0          4                   1   \n",
      "2058               2       4  ...     1      1          1                   0   \n",
      "\n",
      "      fam_size  fam_relation  prev_percent_1  prev_percent_2  prev_percent_3  \\\n",
      "0           14             4              73              73              67   \n",
      "1            1             2              96              87              80   \n",
      "2           15             2              81              78              93   \n",
      "3           15             4              77              71              88   \n",
      "4           13             3              66              78              85   \n",
      "...        ...           ...             ...             ...             ...   \n",
      "2054         4             1              71              80              61   \n",
      "2055         4             1              68              61              81   \n",
      "2056         3             3              72              55              86   \n",
      "2057         5             3              53              58              83   \n",
      "2058         4             5              58              85              82   \n",
      "\n",
      "      TARGET_PREDICTION_PERCENT  \n",
      "0                            71  \n",
      "1                            87  \n",
      "2                            84  \n",
      "3                            78  \n",
      "4                            76  \n",
      "...                         ...  \n",
      "2054                         74  \n",
      "2055                         77  \n",
      "2056                         68  \n",
      "2057                         79  \n",
      "2058                         64  \n",
      "\n",
      "[2059 rows x 23 columns]\n"
     ]
    }
   ],
   "source": [
    "file_path = \"Final_Training_Data.csv\"  \n",
    "df = pd.read_csv(file_path)\n",
    "print(df)"
   ]
  },
  {
   "cell_type": "code",
   "execution_count": 7,
   "id": "834a8fa2",
   "metadata": {},
   "outputs": [
    {
     "data": {
      "text/plain": [
       "(2059, 23)"
      ]
     },
     "execution_count": 7,
     "metadata": {},
     "output_type": "execute_result"
    }
   ],
   "source": [
    "df.shape"
   ]
  },
  {
   "cell_type": "code",
   "execution_count": 20,
   "id": "da855e83",
   "metadata": {},
   "outputs": [],
   "source": [
    "df_encoded = pd.get_dummies(df, columns=[\"gender\", \"residence\", \"location\"])\n"
   ]
  },
  {
   "cell_type": "code",
   "execution_count": 21,
   "id": "c925c4c8",
   "metadata": {},
   "outputs": [
    {
     "name": "stdout",
     "output_type": "stream",
     "text": [
      "      age  competative_exams  access_to_internet  study_hours_per_day  \\\n",
      "0      11                  0                   0                    4   \n",
      "1      14                  0                   1                    1   \n",
      "2      21                  1                   1                    6   \n",
      "3      24                  1                   0                    7   \n",
      "4      12                  0                   0                    5   \n",
      "...   ...                ...                 ...                  ...   \n",
      "2054   18                  1                   1                   10   \n",
      "2055   20                  0                   0                    6   \n",
      "2056   26                  1                   0                    4   \n",
      "2057   27                  1                   0                    6   \n",
      "2058   18                  1                   0                   10   \n",
      "\n",
      "      has_scholarship  extracurricular_activities  fam_fin_status  health  \\\n",
      "0                   0                           1               3       5   \n",
      "1                   1                           0               4       2   \n",
      "2                   0                           1               5       3   \n",
      "3                   0                           0               4       2   \n",
      "4                   1                           0               3       1   \n",
      "...               ...                         ...             ...     ...   \n",
      "2054                0                           0               4       5   \n",
      "2055                0                           0               2       5   \n",
      "2056                0                           0               1       4   \n",
      "2057                1                           1               3       5   \n",
      "2058                0                           0               2       4   \n",
      "\n",
      "      f_edu  m_edu  ...  prev_percent_1  prev_percent_2  prev_percent_3  \\\n",
      "0         4      5  ...              73              73              67   \n",
      "1         5      0  ...              96              87              80   \n",
      "2         3      4  ...              81              78              93   \n",
      "3         2      1  ...              77              71              88   \n",
      "4         3      3  ...              66              78              85   \n",
      "...     ...    ...  ...             ...             ...             ...   \n",
      "2054      2      1  ...              71              80              61   \n",
      "2055      5      1  ...              68              61              81   \n",
      "2056      3      3  ...              72              55              86   \n",
      "2057      3      1  ...              53              58              83   \n",
      "2058      4      2  ...              58              85              82   \n",
      "\n",
      "      TARGET_PREDICTION_PERCENT  gender_F  gender_M  residence_D  residence_H  \\\n",
      "0                            71     False      True        False         True   \n",
      "1                            87      True     False         True        False   \n",
      "2                            84     False      True        False         True   \n",
      "3                            78      True     False        False         True   \n",
      "4                            76      True     False        False         True   \n",
      "...                         ...       ...       ...          ...          ...   \n",
      "2054                         74      True     False        False         True   \n",
      "2055                         77     False      True        False         True   \n",
      "2056                         68      True     False        False         True   \n",
      "2057                         79     False      True         True        False   \n",
      "2058                         64      True     False         True        False   \n",
      "\n",
      "      location_R  location_U  \n",
      "0           True       False  \n",
      "1          False        True  \n",
      "2          False        True  \n",
      "3          False        True  \n",
      "4           True       False  \n",
      "...          ...         ...  \n",
      "2054        True       False  \n",
      "2055        True       False  \n",
      "2056        True       False  \n",
      "2057        True       False  \n",
      "2058        True       False  \n",
      "\n",
      "[2059 rows x 26 columns]\n"
     ]
    }
   ],
   "source": [
    "print(df_encoded)\n"
   ]
  },
  {
   "cell_type": "code",
   "execution_count": 19,
   "id": "a517b303",
   "metadata": {},
   "outputs": [
    {
     "data": {
      "text/plain": [
       "(2059, 26)"
      ]
     },
     "execution_count": 19,
     "metadata": {},
     "output_type": "execute_result"
    }
   ],
   "source": [
    "df_encoded.shape"
   ]
  }
 ],
 "metadata": {
  "jupytext": {
   "cell_metadata_filter": "-all",
   "notebook_metadata_filter": "-all"
  },
  "kernelspec": {
   "display_name": "Python 3",
   "language": "python",
   "name": "python3"
  },
  "language_info": {
   "codemirror_mode": {
    "name": "ipython",
    "version": 3
   },
   "file_extension": ".py",
   "mimetype": "text/x-python",
   "name": "python",
   "nbconvert_exporter": "python",
   "pygments_lexer": "ipython3",
   "version": "3.12.0"
  }
 },
 "nbformat": 4,
 "nbformat_minor": 5
}
